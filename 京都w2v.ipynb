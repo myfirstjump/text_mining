{
 "cells": [
  {
   "cell_type": "code",
   "execution_count": null,
   "metadata": {},
   "outputs": [
    {
     "name": "stderr",
     "output_type": "stream",
     "text": [
      "C:\\Users\\Java\\Anaconda3\\lib\\site-packages\\gensim\\utils.py:865: UserWarning: detected Windows; aliasing chunkize to chunkize_serial\n",
      "  warnings.warn(\"detected Windows; aliasing chunkize to chunkize_serial\")\n",
      "2017-09-07 13:58:55,221 : INFO : loading Word2Vec object from C:\\Users\\Java\\Desktop\\TM\\word2Vec\\MYDATA\\med250.model.bin\n",
      "2017-09-07 13:58:55,539 : INFO : loading wv recursively from C:\\Users\\Java\\Desktop\\TM\\word2Vec\\MYDATA\\med250.model.bin.wv.* with mmap=None\n",
      "2017-09-07 13:58:55,540 : INFO : setting ignored attribute syn0norm to None\n",
      "2017-09-07 13:58:55,540 : INFO : setting ignored attribute cum_table to None\n",
      "2017-09-07 13:58:55,541 : INFO : loaded C:\\Users\\Java\\Desktop\\TM\\word2Vec\\MYDATA\\med250.model.bin\n"
     ]
    },
    {
     "name": "stdout",
     "output_type": "stream",
     "text": [
      "提供 3 種測試模式\n",
      "\n",
      "輸入一個詞，則去尋找前一百個該詞的相似詞\n",
      "輸入兩個詞，則去計算兩個詞的餘弦相似度\n",
      "輸入三個詞，進行類比推理\n",
      "鹿苑寺\n"
     ]
    },
    {
     "name": "stderr",
     "output_type": "stream",
     "text": [
      "2017-09-07 14:00:42,966 : INFO : precomputing L2-norms of word weight vectors\n"
     ]
    },
    {
     "name": "stdout",
     "output_type": "stream",
     "text": [
      "相似詞前 100 排序\n",
      "KeyError(\"word '鹿苑寺' not in vocabulary\",)\n"
     ]
    }
   ],
   "source": [
    "# -*- coding: utf-8 -*-\n",
    "\n",
    "from gensim.models import word2vec\n",
    "from gensim import models\n",
    "import logging\n",
    "\n",
    "def main():\n",
    "\tfilePath = \"C:\\\\Users\\\\Java\\\\Desktop\\\\TM\"\n",
    "\tlogging.basicConfig(format='%(asctime)s : %(levelname)s : %(message)s', level=logging.INFO)\n",
    "\tmodel = models.Word2Vec.load(filePath + '\\\\word2Vec\\\\MYDATA\\\\med250.model.bin')\n",
    "\n",
    "\tprint(\"提供 3 種測試模式\\n\")\n",
    "\tprint(\"輸入一個詞，則去尋找前一百個該詞的相似詞\")\n",
    "\tprint(\"輸入兩個詞，則去計算兩個詞的餘弦相似度\")\n",
    "\tprint(\"輸入三個詞，進行類比推理\")\n",
    "\n",
    "\twhile True:\n",
    "\t\ttry:\n",
    "\t\t\tquery = input()\n",
    "\t\t\tq_list = query.split()\n",
    "\n",
    "\t\t\tif len(q_list) == 1:\n",
    "\t\t\t\tprint(\"相似詞前 100 排序\")\n",
    "\t\t\t\tres = model.most_similar(q_list[0],topn = 100)\n",
    "\t\t\t\tfor item in res:\n",
    "\t\t\t\t\tprint(item[0]+\",\"+str(item[1]))\n",
    "\n",
    "\t\t\telif len(q_list) == 2:\n",
    "\t\t\t\tprint(\"計算 Cosine 相似度\")\n",
    "\t\t\t\tres = model.similarity(q_list[0],q_list[1])\n",
    "\t\t\t\tprint(res)\n",
    "\t\t\telse:\n",
    "\t\t\t\tprint(\"%s之於%s，如%s之於\" % (q_list[0],q_list[2],q_list[1]))\n",
    "\t\t\t\tres = model.most_similar([q_list[0],q_list[1]], [q_list[2]], topn= 100)\n",
    "\t\t\t\tfor item in res:\n",
    "\t\t\t\t\tprint(item[0]+\",\"+str(item[1]))\n",
    "\t\t\tprint(\"----------------------------\")\n",
    "\t\texcept Exception as e:\n",
    "\t\t\tprint(repr(e))\n",
    "\n",
    "if __name__ == \"__main__\":\n",
    "\tmain()\n"
   ]
  }
 ],
 "metadata": {
  "kernelspec": {
   "display_name": "Python 3",
   "language": "python",
   "name": "python3"
  },
  "language_info": {
   "codemirror_mode": {
    "name": "ipython",
    "version": 3
   },
   "file_extension": ".py",
   "mimetype": "text/x-python",
   "name": "python",
   "nbconvert_exporter": "python",
   "pygments_lexer": "ipython3",
   "version": "3.6.1"
  }
 },
 "nbformat": 4,
 "nbformat_minor": 2
}
