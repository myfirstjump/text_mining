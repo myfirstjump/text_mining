{
 "cells": [
  {
   "cell_type": "code",
   "execution_count": 5,
   "metadata": {
    "collapsed": true
   },
   "outputs": [],
   "source": [
    "import numpy as np\n",
    "from sklearn.cluster import KMeans\n",
    "import time\n",
    "import os\n",
    "import json\n",
    "import matplotlib.pyplot as plt\n",
    "import operator\n",
    "src = \"清水寺_Titlize\" # DB 讀取來源 collection\n",
    "filePath = \"C:\\\\Users\\\\Java\\\\Desktop\\\\TM\"\n",
    "focus = \"allTags\" # 欲加強的目標\n",
    "multi = 100  # 加強目標的權重\n",
    "nowtime = time.strftime(\"%m%d\")\n",
    "loadDate = \"0914\"\n",
    "kwNum = 5\n",
    "# \"渡月橋\" Togetsukyō\n",
    "# \"平等院鳳凰堂\"  Byōdōin\n",
    "# \"千本鳥居\" Fushimi-Inari Taisha\n",
    "# \"京都御所\" Kyōto gosho\n",
    "# \"京都塔\" kyoto tower\n",
    "# \"二條城\" Nijō-jō\n",
    "# \"三十三間堂\" Sanjūsangen-dō\n",
    "# \"清水寺\" Kiyomizu-dera\n",
    "# \"金閣寺\" Rokuonji"
   ]
  },
  {
   "cell_type": "code",
   "execution_count": 6,
   "metadata": {
    "collapsed": true
   },
   "outputs": [],
   "source": [
    "# load 關鍵字     ->    list atcKwList\n",
    "f = open(filePath + \"\\\\clustering\\\\keywordsSets\\\\{}kw-{}-weight-{}-{}keywords{}.txt\".format(kwNum, multi, focus, str(src), loadDate), 'r', encoding=\"utf-8\")\n",
    "atcKwList = json.load(f)\n",
    "f.close()"
   ]
  },
  {
   "cell_type": "code",
   "execution_count": 7,
   "metadata": {
    "collapsed": true
   },
   "outputs": [],
   "source": [
    "# load 關鍵字set   ->   list kws\n",
    "kws = []\n",
    "f = open(filePath + \"\\\\clustering\\\\keywordsSets\\\\{}kw-{}-weight-{}-{}kwSet{}.txt\".format(kwNum, multi, focus, str(src), loadDate), 'r', encoding=\"utf-8\")\n",
    "kw = f.readlines()\n",
    "for i in kw:\n",
    "    kws.append(i.strip())\n",
    "kws.remove('url')\n",
    "kws.remove('title')\n",
    "\n",
    "f.close()"
   ]
  },
  {
   "cell_type": "code",
   "execution_count": 4,
   "metadata": {},
   "outputs": [
    {
     "data": {
      "text/plain": [
       "(7323, 3278)"
      ]
     },
     "execution_count": 4,
     "metadata": {},
     "output_type": "execute_result"
    }
   ],
   "source": [
    "# np.zeros( (3,4) )\n",
    "table = np.zeros( (len(atcKwList), len(kws) ) )\n",
    "table.shape"
   ]
  },
  {
   "cell_type": "code",
   "execution_count": null,
   "metadata": {
    "collapsed": true
   },
   "outputs": [],
   "source": [
    "[\"A\", \"B\", \"C\"]"
   ]
  },
  {
   "cell_type": "code",
   "execution_count": 8,
   "metadata": {
    "collapsed": true
   },
   "outputs": [],
   "source": [
    "# 將 table 填入值\n",
    "#cnt = 0\n",
    "for i in range(0, len(atcKwList)):\n",
    "    for word in atcKwList[i]:\n",
    "        if word in kws:\n",
    "            #cnt +=1\n",
    "            idx = kws.index(word)\n",
    "            table[i, idx] = atcKwList[i][word]"
   ]
  },
  {
   "cell_type": "code",
   "execution_count": 10,
   "metadata": {
    "collapsed": true
   },
   "outputs": [],
   "source": [
    "import pandas as pd"
   ]
  },
  {
   "cell_type": "code",
   "execution_count": 11,
   "metadata": {},
   "outputs": [],
   "source": [
    "df = pd.DataFrame(table, columns = kws)\n",
    "# df.loc[500:505,[\"雪\", \"茶\", \"清水寺\", \"平等院鳳凰堂\", \"浴衣\", \"賞楓\", \"賞櫻\", \"賞櫻\", \"藥妝\", \"美食\", \"機票\"]]\n",
    "#print(sorted(df.sum(), reverse=True))"
   ]
  },
  {
   "cell_type": "code",
   "execution_count": 14,
   "metadata": {},
   "outputs": [
    {
     "data": {
      "text/html": [
       "<div>\n",
       "<style>\n",
       "    .dataframe thead tr:only-child th {\n",
       "        text-align: right;\n",
       "    }\n",
       "\n",
       "    .dataframe thead th {\n",
       "        text-align: left;\n",
       "    }\n",
       "\n",
       "    .dataframe tbody tr th {\n",
       "        vertical-align: top;\n",
       "    }\n",
       "</style>\n",
       "<table border=\"1\" class=\"dataframe\">\n",
       "  <thead>\n",
       "    <tr style=\"text-align: right;\">\n",
       "      <th></th>\n",
       "      <th>鳥</th>\n",
       "      <th>春季例大祭</th>\n",
       "      <th>CafeIndependants</th>\n",
       "      <th>日之出咖哩烏龍麵</th>\n",
       "      <th>管家</th>\n",
       "      <th>ers</th>\n",
       "      <th>鮪</th>\n",
       "      <th>附件</th>\n",
       "      <th>紅葉名</th>\n",
       "      <th>寶玉堂</th>\n",
       "    </tr>\n",
       "  </thead>\n",
       "  <tbody>\n",
       "    <tr>\n",
       "      <th>0</th>\n",
       "      <td>0.0</td>\n",
       "      <td>0.0</td>\n",
       "      <td>0.0</td>\n",
       "      <td>0.0</td>\n",
       "      <td>0.0</td>\n",
       "      <td>0.0</td>\n",
       "      <td>0.0</td>\n",
       "      <td>0.000000</td>\n",
       "      <td>0.0</td>\n",
       "      <td>0.0</td>\n",
       "    </tr>\n",
       "    <tr>\n",
       "      <th>1</th>\n",
       "      <td>0.0</td>\n",
       "      <td>0.0</td>\n",
       "      <td>0.0</td>\n",
       "      <td>0.0</td>\n",
       "      <td>0.0</td>\n",
       "      <td>0.0</td>\n",
       "      <td>0.0</td>\n",
       "      <td>0.000000</td>\n",
       "      <td>0.0</td>\n",
       "      <td>0.0</td>\n",
       "    </tr>\n",
       "    <tr>\n",
       "      <th>2</th>\n",
       "      <td>0.0</td>\n",
       "      <td>0.0</td>\n",
       "      <td>0.0</td>\n",
       "      <td>0.0</td>\n",
       "      <td>0.0</td>\n",
       "      <td>0.0</td>\n",
       "      <td>0.0</td>\n",
       "      <td>0.000000</td>\n",
       "      <td>0.0</td>\n",
       "      <td>0.0</td>\n",
       "    </tr>\n",
       "    <tr>\n",
       "      <th>3</th>\n",
       "      <td>0.0</td>\n",
       "      <td>0.0</td>\n",
       "      <td>0.0</td>\n",
       "      <td>0.0</td>\n",
       "      <td>0.0</td>\n",
       "      <td>0.0</td>\n",
       "      <td>0.0</td>\n",
       "      <td>0.000000</td>\n",
       "      <td>0.0</td>\n",
       "      <td>0.0</td>\n",
       "    </tr>\n",
       "    <tr>\n",
       "      <th>4</th>\n",
       "      <td>0.0</td>\n",
       "      <td>0.0</td>\n",
       "      <td>0.0</td>\n",
       "      <td>0.0</td>\n",
       "      <td>0.0</td>\n",
       "      <td>0.0</td>\n",
       "      <td>0.0</td>\n",
       "      <td>0.000000</td>\n",
       "      <td>0.0</td>\n",
       "      <td>0.0</td>\n",
       "    </tr>\n",
       "    <tr>\n",
       "      <th>5</th>\n",
       "      <td>0.0</td>\n",
       "      <td>0.0</td>\n",
       "      <td>0.0</td>\n",
       "      <td>0.0</td>\n",
       "      <td>0.0</td>\n",
       "      <td>0.0</td>\n",
       "      <td>0.0</td>\n",
       "      <td>0.000000</td>\n",
       "      <td>0.0</td>\n",
       "      <td>0.0</td>\n",
       "    </tr>\n",
       "    <tr>\n",
       "      <th>6</th>\n",
       "      <td>0.0</td>\n",
       "      <td>0.0</td>\n",
       "      <td>0.0</td>\n",
       "      <td>0.0</td>\n",
       "      <td>0.0</td>\n",
       "      <td>0.0</td>\n",
       "      <td>0.0</td>\n",
       "      <td>0.000000</td>\n",
       "      <td>0.0</td>\n",
       "      <td>0.0</td>\n",
       "    </tr>\n",
       "    <tr>\n",
       "      <th>7</th>\n",
       "      <td>0.0</td>\n",
       "      <td>0.0</td>\n",
       "      <td>0.0</td>\n",
       "      <td>0.0</td>\n",
       "      <td>0.0</td>\n",
       "      <td>0.0</td>\n",
       "      <td>0.0</td>\n",
       "      <td>0.000000</td>\n",
       "      <td>0.0</td>\n",
       "      <td>0.0</td>\n",
       "    </tr>\n",
       "    <tr>\n",
       "      <th>8</th>\n",
       "      <td>0.0</td>\n",
       "      <td>0.0</td>\n",
       "      <td>0.0</td>\n",
       "      <td>0.0</td>\n",
       "      <td>0.0</td>\n",
       "      <td>0.0</td>\n",
       "      <td>0.0</td>\n",
       "      <td>0.077682</td>\n",
       "      <td>0.0</td>\n",
       "      <td>0.0</td>\n",
       "    </tr>\n",
       "    <tr>\n",
       "      <th>9</th>\n",
       "      <td>0.0</td>\n",
       "      <td>0.0</td>\n",
       "      <td>0.0</td>\n",
       "      <td>0.0</td>\n",
       "      <td>0.0</td>\n",
       "      <td>0.0</td>\n",
       "      <td>0.0</td>\n",
       "      <td>0.000000</td>\n",
       "      <td>0.0</td>\n",
       "      <td>0.0</td>\n",
       "    </tr>\n",
       "  </tbody>\n",
       "</table>\n",
       "</div>"
      ],
      "text/plain": [
       "     鳥  春季例大祭  CafeIndependants  日之出咖哩烏龍麵   管家  ers    鮪        附件  紅葉名  寶玉堂\n",
       "0  0.0    0.0               0.0       0.0  0.0  0.0  0.0  0.000000  0.0  0.0\n",
       "1  0.0    0.0               0.0       0.0  0.0  0.0  0.0  0.000000  0.0  0.0\n",
       "2  0.0    0.0               0.0       0.0  0.0  0.0  0.0  0.000000  0.0  0.0\n",
       "3  0.0    0.0               0.0       0.0  0.0  0.0  0.0  0.000000  0.0  0.0\n",
       "4  0.0    0.0               0.0       0.0  0.0  0.0  0.0  0.000000  0.0  0.0\n",
       "5  0.0    0.0               0.0       0.0  0.0  0.0  0.0  0.000000  0.0  0.0\n",
       "6  0.0    0.0               0.0       0.0  0.0  0.0  0.0  0.000000  0.0  0.0\n",
       "7  0.0    0.0               0.0       0.0  0.0  0.0  0.0  0.000000  0.0  0.0\n",
       "8  0.0    0.0               0.0       0.0  0.0  0.0  0.0  0.077682  0.0  0.0\n",
       "9  0.0    0.0               0.0       0.0  0.0  0.0  0.0  0.000000  0.0  0.0"
      ]
     },
     "execution_count": 14,
     "metadata": {},
     "output_type": "execute_result"
    }
   ],
   "source": [
    "df.iloc[:10, 200:210]"
   ]
  },
  {
   "cell_type": "code",
   "execution_count": 8,
   "metadata": {
    "collapsed": true
   },
   "outputs": [],
   "source": [
    "col_avg = np.average(df.sum(0))"
   ]
  },
  {
   "cell_type": "code",
   "execution_count": 9,
   "metadata": {},
   "outputs": [
    {
     "data": {
      "text/plain": [
       "array([False, False, False, ...,  True, False, False], dtype=bool)"
      ]
     },
     "execution_count": 9,
     "metadata": {},
     "output_type": "execute_result"
    }
   ],
   "source": [
    "np.array(df.sum(0) > col_avg)"
   ]
  },
  {
   "cell_type": "code",
   "execution_count": 10,
   "metadata": {
    "collapsed": true
   },
   "outputs": [],
   "source": [
    "df_Reduc1 = df.loc[:,np.array(df.sum(0) > col_avg)]"
   ]
  },
  {
   "cell_type": "code",
   "execution_count": 11,
   "metadata": {},
   "outputs": [
    {
     "data": {
      "text/plain": [
       "(7323, 389)"
      ]
     },
     "execution_count": 11,
     "metadata": {},
     "output_type": "execute_result"
    }
   ],
   "source": [
    "df_Reduc1.shape"
   ]
  },
  {
   "cell_type": "code",
   "execution_count": 12,
   "metadata": {
    "collapsed": true
   },
   "outputs": [],
   "source": [
    "### Pandas 語法\n",
    "# Data Frame 取值 :  df.loc[:,\"清水寺\"]\n",
    "\n",
    "# 刪除col  :   del df['column_name']"
   ]
  },
  {
   "cell_type": "code",
   "execution_count": 13,
   "metadata": {
    "collapsed": true
   },
   "outputs": [],
   "source": [
    "# 列出 column 數值統計\n",
    "\n",
    "# x = 0\n",
    "# for i in kws:    \n",
    "#     x += 1\n",
    "#     if x <5 :\n",
    "#         pp = df[i].value_counts()#.count(True)\n",
    "#         print(pp)"
   ]
  },
  {
   "cell_type": "code",
   "execution_count": 14,
   "metadata": {
    "scrolled": true
   },
   "outputs": [
    {
     "data": {
      "text/plain": [
       "5"
      ]
     },
     "execution_count": 14,
     "metadata": {},
     "output_type": "execute_result"
    }
   ],
   "source": [
    "# 該 row 非0的個數，應該跟 每篇文章給的 keywords數量一樣\n",
    "np.count_nonzero(table[1])"
   ]
  },
  {
   "cell_type": "code",
   "execution_count": 15,
   "metadata": {
    "collapsed": true
   },
   "outputs": [],
   "source": [
    "# 標準化column"
   ]
  },
  {
   "cell_type": "code",
   "execution_count": 16,
   "metadata": {
    "collapsed": true
   },
   "outputs": [],
   "source": [
    "# from sklearn.preprocessing import StandardScaler"
   ]
  },
  {
   "cell_type": "markdown",
   "metadata": {},
   "source": [
    "##### 太多 0 沒什麼必要做standardize"
   ]
  },
  {
   "cell_type": "markdown",
   "metadata": {},
   "source": [
    "## K-Means"
   ]
  },
  {
   "cell_type": "markdown",
   "metadata": {},
   "source": [
    "## Use Full algorithm #  “full” for sparse data"
   ]
  },
  {
   "cell_type": "code",
   "execution_count": 17,
   "metadata": {},
   "outputs": [
    {
     "name": "stdout",
     "output_type": "stream",
     "text": [
      "Kmeans choose cluster number : 52.88300013542175\n"
     ]
    }
   ],
   "source": [
    "# \n",
    "startT = time.time()\n",
    "X = df_Reduc1\n",
    "# 看看要分幾組\n",
    "lowerClst = 4\n",
    "upperClst = 20 \n",
    "distortions = []\n",
    "\n",
    "for i in range(lowerClst, upperClst):\n",
    "    km = KMeans(n_clusters=i, \n",
    "                init='k-means++', \n",
    "                n_init=10, \n",
    "                max_iter=300, \n",
    "                random_state=0,\n",
    "                algorithm='full')\n",
    "    km.fit(X)\n",
    "    distortions.append(km.inertia_)\n",
    "DoneT = time.time()\n",
    "print(\"Kmeans choose cluster number : {}\".format(DoneT - startT))"
   ]
  },
  {
   "cell_type": "code",
   "execution_count": 18,
   "metadata": {},
   "outputs": [
    {
     "data": {
      "image/png": "[encoded data removed]",
      "text/plain": [
       "<matplotlib.figure.Figure at 0x17b20a58>"
      ]
     },
     "metadata": {},
     "output_type": "display_data"
    }
   ],
   "source": [
    "plt.plot(range(lowerClst, upperClst), distortions, marker='o')\n",
    "plt.xlabel('Number of clusters in Kiyomizu-dera'.format(src))\n",
    "plt.ylabel('Distortion')\n",
    "plt.tight_layout()\n",
    "plt.show()\n",
    "# plt.savefig('{}kMeansDistortion.jpg'.format(src))"
   ]
  },
  {
   "cell_type": "markdown",
   "metadata": {},
   "source": [
    "## 389 features"
   ]
  },
  {
   "cell_type": "code",
   "execution_count": 19,
   "metadata": {
    "scrolled": true
   },
   "outputs": [
    {
     "data": {
      "text/plain": [
       "{0: 22,\n",
       " 1: 5798,\n",
       " 2: 2,\n",
       " 3: 1,\n",
       " 4: 545,\n",
       " 5: 13,\n",
       " 6: 4,\n",
       " 7: 1,\n",
       " 8: 5,\n",
       " 9: 64,\n",
       " 10: 358,\n",
       " 11: 98,\n",
       " 12: 86,\n",
       " 13: 79,\n",
       " 14: 247}"
      ]
     },
     "execution_count": 19,
     "metadata": {},
     "output_type": "execute_result"
    }
   ],
   "source": [
    "clusterNum = 15\n",
    "km = KMeans(n_clusters=clusterNum, \n",
    "            init='k-means++', \n",
    "            n_init=15, \n",
    "            max_iter=300,\n",
    "            tol=1e-04,\n",
    "            random_state=5,\n",
    "            algorithm=\"full\")  #  “full” for sparse data\n",
    "y_km = km.fit_predict(df_Reduc1)\n",
    "# 每一群個數 \n",
    "unique, counts = np.unique(km.labels_, return_counts=True)\n",
    "dict(zip(unique, counts))"
   ]
  },
  {
   "cell_type": "code",
   "execution_count": 20,
   "metadata": {
    "scrolled": true
   },
   "outputs": [
    {
     "data": {
      "text/plain": [
       "[('比叡山', 20),\n",
       " ('嵯峨野', 4),\n",
       " ('常寂光寺', 4),\n",
       " ('西明寺', 3),\n",
       " ('高山寺', 3),\n",
       " ('夜楓', 3),\n",
       " ('嵐山', 3),\n",
       " ('遊船', 3),\n",
       " ('天龍寺', 3),\n",
       " ('貴船神社', 2)]"
      ]
     },
     "execution_count": 20,
     "metadata": {},
     "output_type": "execute_result"
    }
   ],
   "source": [
    "cluster = np.where(km.labels_ == 0)[0]\n",
    "wordCntDict = {}\n",
    "for i in cluster:\n",
    "    for j in atcKwList[i]:\n",
    "        if j not in wordCntDict:\n",
    "            wordCntDict[j] = 1\n",
    "        else:\n",
    "            wordCntDict[j] +=1\n",
    "del wordCntDict['url']\n",
    "del wordCntDict['title']\n",
    "sorted(wordCntDict.items(), key=operator.itemgetter(1), reverse = True)[0:10]"
   ]
  },
  {
   "cell_type": "code",
   "execution_count": 21,
   "metadata": {},
   "outputs": [
    {
     "data": {
      "text/plain": [
       "[('京都', 695),\n",
       " ('嵐山', 693),\n",
       " ('才', 640),\n",
       " ('心齋橋', 594),\n",
       " ('和服', 495),\n",
       " ('伏見稻荷', 484),\n",
       " ('金閣寺', 415),\n",
       " ('難波', 372),\n",
       " ('道頓崛', 343),\n",
       " ('錦市場', 324)]"
      ]
     },
     "execution_count": 21,
     "metadata": {},
     "output_type": "execute_result"
    }
   ],
   "source": [
    "cluster = np.where(km.labels_ == 1)[0]\n",
    "wordCntDict = {}\n",
    "for i in cluster:\n",
    "    for j in atcKwList[i]:\n",
    "        if j not in wordCntDict:\n",
    "            wordCntDict[j] = 1\n",
    "        else:\n",
    "            wordCntDict[j] +=1\n",
    "del wordCntDict['url']\n",
    "del wordCntDict['title']\n",
    "sorted(wordCntDict.items(), key=operator.itemgetter(1), reverse = True)[0:10]"
   ]
  },
  {
   "cell_type": "code",
   "execution_count": 22,
   "metadata": {},
   "outputs": [
    {
     "data": {
      "text/plain": [
       "[('花之繪姿', 2),\n",
       " ('和服', 2),\n",
       " ('賞楓', 1),\n",
       " ('京都', 1),\n",
       " ('穿三小時', 1),\n",
       " ('Ppt', 1),\n",
       " ('讀版', 1),\n",
       " ('遊記', 1)]"
      ]
     },
     "execution_count": 22,
     "metadata": {},
     "output_type": "execute_result"
    }
   ],
   "source": [
    "cluster = np.where(km.labels_ == 2)[0]\n",
    "wordCntDict = {}\n",
    "for i in cluster:\n",
    "    for j in atcKwList[i]:\n",
    "        if j not in wordCntDict:\n",
    "            wordCntDict[j] = 1\n",
    "        else:\n",
    "            wordCntDict[j] +=1\n",
    "del wordCntDict['url']\n",
    "del wordCntDict['title']\n",
    "sorted(wordCntDict.items(), key=operator.itemgetter(1), reverse = True)[0:10]"
   ]
  },
  {
   "cell_type": "code",
   "execution_count": 23,
   "metadata": {},
   "outputs": [
    {
     "data": {
      "text/plain": [
       "[('鴨川納涼床', 1), ('先斗町', 1), ('錦市場', 1), ('祇園', 1), ('金閣寺', 1)]"
      ]
     },
     "execution_count": 23,
     "metadata": {},
     "output_type": "execute_result"
    }
   ],
   "source": [
    "cluster = np.where(km.labels_ == 3)[0]\n",
    "wordCntDict = {}\n",
    "for i in cluster:\n",
    "    for j in atcKwList[i]:\n",
    "        if j not in wordCntDict:\n",
    "            wordCntDict[j] = 1\n",
    "        else:\n",
    "            wordCntDict[j] +=1\n",
    "del wordCntDict['url']\n",
    "del wordCntDict['title']\n",
    "sorted(wordCntDict.items(), key=operator.itemgetter(1), reverse = True)[0:10]"
   ]
  },
  {
   "cell_type": "code",
   "execution_count": 24,
   "metadata": {},
   "outputs": [
    {
     "data": {
      "text/plain": [
       "[('難波', 544),\n",
       " ('心齋橋', 137),\n",
       " ('伏見稻荷', 90),\n",
       " ('道頓崛', 76),\n",
       " ('黑門市場', 75),\n",
       " ('嵐山', 69),\n",
       " ('淀屋橋', 63),\n",
       " ('和服', 40),\n",
       " ('金閣寺', 37),\n",
       " ('京都', 35)]"
      ]
     },
     "execution_count": 24,
     "metadata": {},
     "output_type": "execute_result"
    }
   ],
   "source": [
    "cluster = np.where(km.labels_ == 4)[0]\n",
    "wordCntDict = {}\n",
    "for i in cluster:\n",
    "    for j in atcKwList[i]:\n",
    "        if j not in wordCntDict:\n",
    "            wordCntDict[j] = 1\n",
    "        else:\n",
    "            wordCntDict[j] +=1\n",
    "del wordCntDict['url']\n",
    "del wordCntDict['title']\n",
    "sorted(wordCntDict.items(), key=operator.itemgetter(1), reverse = True)[0:10]"
   ]
  },
  {
   "cell_type": "code",
   "execution_count": 25,
   "metadata": {},
   "outputs": [
    {
     "data": {
      "text/plain": [
       "[('夜楓', 13),\n",
       " ('永觀堂', 8),\n",
       " ('京都', 7),\n",
       " ('高台寺', 5),\n",
       " ('清水寺', 3),\n",
       " ('東本願寺', 2),\n",
       " ('賞楓', 2),\n",
       " ('才', 1),\n",
       " ('當日賞', 1),\n",
       " ('門票', 1)]"
      ]
     },
     "execution_count": 25,
     "metadata": {},
     "output_type": "execute_result"
    }
   ],
   "source": [
    "cluster = np.where(km.labels_ == 5)[0]\n",
    "wordCntDict = {}\n",
    "for i in cluster:\n",
    "    for j in atcKwList[i]:\n",
    "        if j not in wordCntDict:\n",
    "            wordCntDict[j] = 1\n",
    "        else:\n",
    "            wordCntDict[j] +=1\n",
    "del wordCntDict['url']\n",
    "del wordCntDict['title']\n",
    "sorted(wordCntDict.items(), key=operator.itemgetter(1), reverse = True)[0:10]"
   ]
  },
  {
   "cell_type": "code",
   "execution_count": 26,
   "metadata": {},
   "outputs": [
    {
     "data": {
      "text/plain": [
       "[('Taro', 4),\n",
       " ('道頓崛', 2),\n",
       " ('祗園', 1),\n",
       " ('岡崎疏水', 1),\n",
       " ('哲學之道', 1),\n",
       " ('伏見稻荷', 1),\n",
       " ('阿倍野', 1),\n",
       " ('難波', 1),\n",
       " ('Rin', 1),\n",
       " ('茶寮都路里', 1)]"
      ]
     },
     "execution_count": 26,
     "metadata": {},
     "output_type": "execute_result"
    }
   ],
   "source": [
    "cluster = np.where(km.labels_ == 6)[0]\n",
    "wordCntDict = {}\n",
    "for i in cluster:\n",
    "    for j in atcKwList[i]:\n",
    "        if j not in wordCntDict:\n",
    "            wordCntDict[j] = 1\n",
    "        else:\n",
    "            wordCntDict[j] +=1\n",
    "del wordCntDict['url']\n",
    "del wordCntDict['title']\n",
    "sorted(wordCntDict.items(), key=operator.itemgetter(1), reverse = True)[0:10]"
   ]
  },
  {
   "cell_type": "code",
   "execution_count": 27,
   "metadata": {},
   "outputs": [
    {
     "data": {
      "text/plain": [
       "[('Gogo', 1), ('有馬溫泉', 1), ('鳥貴族', 1), ('一蘭', 1), ('一蘭拉麵', 1)]"
      ]
     },
     "execution_count": 27,
     "metadata": {},
     "output_type": "execute_result"
    }
   ],
   "source": [
    "cluster = np.where(km.labels_ == 7)[0]\n",
    "wordCntDict = {}\n",
    "for i in cluster:\n",
    "    for j in atcKwList[i]:\n",
    "        if j not in wordCntDict:\n",
    "            wordCntDict[j] = 1\n",
    "        else:\n",
    "            wordCntDict[j] +=1\n",
    "del wordCntDict['url']\n",
    "del wordCntDict['title']\n",
    "sorted(wordCntDict.items(), key=operator.itemgetter(1), reverse = True)[0:10]"
   ]
  },
  {
   "cell_type": "code",
   "execution_count": 28,
   "metadata": {},
   "outputs": [
    {
     "data": {
      "text/plain": [
       "[('真如堂', 5),\n",
       " ('真正極樂寺', 5),\n",
       " ('賞楓', 4),\n",
       " ('三重塔', 3),\n",
       " ('瑠璃光院', 1),\n",
       " ('小宝', 1),\n",
       " ('六盛茶庭', 1),\n",
       " ('御手洗', 1),\n",
       " ('東福寺', 1),\n",
       " ('南禪寺', 1)]"
      ]
     },
     "execution_count": 28,
     "metadata": {},
     "output_type": "execute_result"
    }
   ],
   "source": [
    "cluster = np.where(km.labels_ == 8)[0]\n",
    "wordCntDict = {}\n",
    "for i in cluster:\n",
    "    for j in atcKwList[i]:\n",
    "        if j not in wordCntDict:\n",
    "            wordCntDict[j] = 1\n",
    "        else:\n",
    "            wordCntDict[j] +=1\n",
    "del wordCntDict['url']\n",
    "del wordCntDict['title']\n",
    "sorted(wordCntDict.items(), key=operator.itemgetter(1), reverse = True)[0:10]"
   ]
  },
  {
   "cell_type": "code",
   "execution_count": 29,
   "metadata": {},
   "outputs": [
    {
     "data": {
      "text/plain": [
       "[('本能寺', 64),\n",
       " ('二条城', 12),\n",
       " ('二條城', 9),\n",
       " ('晴明神社', 7),\n",
       " ('銀閣寺', 6),\n",
       " ('豐國神社', 5),\n",
       " ('京都塔', 5),\n",
       " ('難波', 5),\n",
       " ('先斗町', 5),\n",
       " ('龍安寺', 4)]"
      ]
     },
     "execution_count": 29,
     "metadata": {},
     "output_type": "execute_result"
    }
   ],
   "source": [
    "cluster = np.where(km.labels_ == 9)[0]\n",
    "wordCntDict = {}\n",
    "for i in cluster:\n",
    "    for j in atcKwList[i]:\n",
    "        if j not in wordCntDict:\n",
    "            wordCntDict[j] = 1\n",
    "        else:\n",
    "            wordCntDict[j] +=1\n",
    "del wordCntDict['url']\n",
    "del wordCntDict['title']\n",
    "sorted(wordCntDict.items(), key=operator.itemgetter(1), reverse = True)[0:10]"
   ]
  },
  {
   "cell_type": "code",
   "execution_count": 30,
   "metadata": {},
   "outputs": [
    {
     "data": {
      "text/plain": [
       "[('和服', 354),\n",
       " ('岡本', 99),\n",
       " ('京都', 56),\n",
       " ('才', 48),\n",
       " ('岡本和服', 47),\n",
       " ('夢館', 46),\n",
       " ('染匠', 45),\n",
       " ('振袖', 33),\n",
       " ('岡本織物', 31),\n",
       " ('清水坂', 25)]"
      ]
     },
     "execution_count": 30,
     "metadata": {},
     "output_type": "execute_result"
    }
   ],
   "source": [
    "cluster = np.where(km.labels_ == 10)[0]\n",
    "wordCntDict = {}\n",
    "for i in cluster:\n",
    "    for j in atcKwList[i]:\n",
    "        if j not in wordCntDict:\n",
    "            wordCntDict[j] = 1\n",
    "        else:\n",
    "            wordCntDict[j] +=1\n",
    "del wordCntDict['url']\n",
    "del wordCntDict['title']\n",
    "sorted(wordCntDict.items(), key=operator.itemgetter(1), reverse = True)[0:10]"
   ]
  },
  {
   "cell_type": "code",
   "execution_count": 31,
   "metadata": {},
   "outputs": [
    {
     "data": {
      "text/plain": [
       "[('夜櫻', 98),\n",
       " ('醍醐寺', 18),\n",
       " ('高瀨川', 17),\n",
       " ('平野神社', 17),\n",
       " ('蹴上鐵道', 16),\n",
       " ('二条城', 13),\n",
       " ('蹴上傾斜鐵道', 12),\n",
       " ('東寺', 10),\n",
       " ('二條城', 10),\n",
       " ('平安神宮', 9)]"
      ]
     },
     "execution_count": 31,
     "metadata": {},
     "output_type": "execute_result"
    }
   ],
   "source": [
    "cluster = np.where(km.labels_ == 11)[0]\n",
    "wordCntDict = {}\n",
    "for i in cluster:\n",
    "    for j in atcKwList[i]:\n",
    "        if j not in wordCntDict:\n",
    "            wordCntDict[j] = 1\n",
    "        else:\n",
    "            wordCntDict[j] +=1\n",
    "del wordCntDict['url']\n",
    "del wordCntDict['title']\n",
    "sorted(wordCntDict.items(), key=operator.itemgetter(1), reverse = True)[0:10]"
   ]
  },
  {
   "cell_type": "code",
   "execution_count": 32,
   "metadata": {},
   "outputs": [
    {
     "data": {
      "text/plain": [
       "[('染匠', 86),\n",
       " ('和服', 50),\n",
       " ('岡本', 13),\n",
       " ('Sensho', 8),\n",
       " ('才', 8),\n",
       " ('高台寺', 8),\n",
       " ('京都', 7),\n",
       " ('伏見稻荷', 7),\n",
       " ('難波', 6),\n",
       " ('寧寧之道', 5)]"
      ]
     },
     "execution_count": 32,
     "metadata": {},
     "output_type": "execute_result"
    }
   ],
   "source": [
    "cluster = np.where(km.labels_ == 12)[0]\n",
    "wordCntDict = {}\n",
    "for i in cluster:\n",
    "    for j in atcKwList[i]:\n",
    "        if j not in wordCntDict:\n",
    "            wordCntDict[j] = 1\n",
    "        else:\n",
    "            wordCntDict[j] +=1\n",
    "del wordCntDict['url']\n",
    "del wordCntDict['title']\n",
    "sorted(wordCntDict.items(), key=operator.itemgetter(1), reverse = True)[0:10]"
   ]
  },
  {
   "cell_type": "code",
   "execution_count": 33,
   "metadata": {},
   "outputs": [
    {
     "data": {
      "text/plain": [
       "[('夢館', 79),\n",
       " ('和服', 60),\n",
       " ('Yumeyakata', 18),\n",
       " ('伏見稻荷', 17),\n",
       " ('染匠', 16),\n",
       " ('京都', 10),\n",
       " ('祇園', 9),\n",
       " ('才', 9),\n",
       " ('岡本', 9),\n",
       " ('心齋橋', 8)]"
      ]
     },
     "execution_count": 33,
     "metadata": {},
     "output_type": "execute_result"
    }
   ],
   "source": [
    "cluster = np.where(km.labels_ == 13)[0]\n",
    "wordCntDict = {}\n",
    "for i in cluster:\n",
    "    for j in atcKwList[i]:\n",
    "        if j not in wordCntDict:\n",
    "            wordCntDict[j] = 1\n",
    "        else:\n",
    "            wordCntDict[j] +=1\n",
    "del wordCntDict['url']\n",
    "del wordCntDict['title']\n",
    "sorted(wordCntDict.items(), key=operator.itemgetter(1), reverse = True)[0:10]"
   ]
  },
  {
   "cell_type": "code",
   "execution_count": 34,
   "metadata": {
    "scrolled": false
   },
   "outputs": [
    {
     "data": {
      "text/plain": [
       "[('賞楓', 203),\n",
       " ('夜楓', 151),\n",
       " ('永觀堂', 101),\n",
       " ('東福寺', 64),\n",
       " ('真如堂', 46),\n",
       " ('南禪寺', 29),\n",
       " ('嵐山', 28),\n",
       " ('京都', 27),\n",
       " ('常寂光寺', 24),\n",
       " ('美術館', 19)]"
      ]
     },
     "execution_count": 34,
     "metadata": {},
     "output_type": "execute_result"
    }
   ],
   "source": [
    "cluster = np.where(km.labels_ == 14)[0]\n",
    "wordCntDict = {}\n",
    "for i in cluster:\n",
    "    for j in atcKwList[i]:\n",
    "        if j not in wordCntDict:\n",
    "            wordCntDict[j] = 1\n",
    "        else:\n",
    "            wordCntDict[j] +=1\n",
    "del wordCntDict['url']\n",
    "del wordCntDict['title']\n",
    "sorted(wordCntDict.items(), key=operator.itemgetter(1), reverse = True)[0:10]"
   ]
  },
  {
   "cell_type": "markdown",
   "metadata": {},
   "source": [
    "## Reduction 之前"
   ]
  },
  {
   "cell_type": "code",
   "execution_count": 35,
   "metadata": {},
   "outputs": [
    {
     "name": "stdout",
     "output_type": "stream",
     "text": [
      "['Taro', '祗園', '岡崎疏水', '哲學之道', '伏見稻荷', 'url', 'title']\n",
      "['Taro', '阿倍野', '難波', '道頓崛', 'Rin', 'url', 'title']\n",
      "['Taro', '茶寮都路里', '嵯峨野', 'Harbs', '道頓崛', 'url', 'title']\n",
      "['Taro', '心齋橋', '二条城', '阿古屋茶屋', '夜櫻', 'url', 'title']\n"
     ]
    }
   ],
   "source": [
    "cluster = np.where(km.labels_ == 6)[0]    ## --> 二條城 西本願寺\n",
    "for i in cluster:\n",
    "    print([i for i in atcKwList[i]])"
   ]
  },
  {
   "cell_type": "code",
   "execution_count": 36,
   "metadata": {},
   "outputs": [
    {
     "name": "stdout",
     "output_type": "stream",
     "text": [
      "['Gogo', '有馬溫泉', '鳥貴族', '一蘭', '一蘭拉麵', 'url', 'title']\n"
     ]
    }
   ],
   "source": [
    "cluster = np.where(km.labels_ == 7)[0]    ## --> 難波\n",
    "for i in cluster:\n",
    "    print([i for i in atcKwList[i]])"
   ]
  },
  {
   "cell_type": "code",
   "execution_count": 37,
   "metadata": {},
   "outputs": [
    {
     "name": "stdout",
     "output_type": "stream",
     "text": [
      "['真如堂', '真正極樂寺', '三重塔', '賞楓', '瑠璃光院', 'url', 'title']\n",
      "['真如堂', '小宝', '真正極樂寺', '六盛茶庭', '賞楓', 'url', 'title']\n",
      "['真如堂', '三重塔', '賞楓', '真正極樂寺', '御手洗', 'url', 'title']\n",
      "['真如堂', '東福寺', '真正極樂寺', '南禪寺', '才', 'url', 'title']\n",
      "['真如堂', '三重塔', '真正極樂寺', '賞楓', '參拜', 'url', 'title']\n"
     ]
    }
   ],
   "source": [
    "cluster = np.where(km.labels_ == 8)[0]    ## --> 夜楓 賞楓\n",
    "for i in cluster:\n",
    "    print([i for i in atcKwList[i]])"
   ]
  },
  {
   "cell_type": "code",
   "execution_count": 38,
   "metadata": {},
   "outputs": [
    {
     "name": "stdout",
     "output_type": "stream",
     "text": [
      "['Tekuteku', '京都大學食堂', '仙洞御所', '豐國神社', '本能寺', 'url', 'title']\n",
      "['本能寺', '洛匠', '千之風拉麵', '四条西洞院食堂', '通圓', 'url', 'title']\n",
      "['南禪寺', '河合神社', '跳烏龜', '本能寺', '石塀小路', 'url', 'title']\n",
      "['本能寺', '方廣寺', '豐國神社', '音羽瀑布', '三重塔', 'url', 'title']\n",
      "['鞍馬山', '河源町', '本能寺', '下鴨神社', '二條城', 'url', 'title']\n",
      "['本能寺', '廣隆寺', '嵐山辨慶', '二条城', '龍安寺', 'url', 'title']\n",
      "['本能寺', '仁和寺', '龍安寺', '京都塔', '道頓崛', 'url', 'title']\n",
      "['大德寺', '本能寺', '方廣寺', '豐國神社', '寺町', 'url', 'title']\n",
      "['西芳寺', '上賀茂神社', '本能寺', '仁和寺', '醍醐寺', 'url', 'title']\n",
      "['本能寺', '京都御所', '二條城', '明智光秀首塚', 'Udo', 'url', 'title']\n",
      "['本能寺', '美術館', '千本鳥居', '西本願寺', '和服', 'url', 'title']\n",
      "['Minami', '和服', '二条城', '豐國神社', '本能寺', 'url', 'title']\n",
      "['肥後', '鳥貴族', '本能寺', '京都御所', '夢館', 'url', 'title']\n",
      "['本能寺', '京都大學', '平安神宮', '八阪神社', '天龍寺', 'url', 'title']\n",
      "['本能寺', '阿倍野', '二条城', '難波', '伏見稻荷', 'url', 'title']\n",
      "['通圓', '本能寺', 'En', '京都文化博物館', '靈山觀音', 'url', 'title']\n",
      "['夜觀', '本能寺', '稻荷大社', '京都御苑', '三十三間堂', 'url', 'title']\n",
      "['本能寺', '銀閣寺', '伏見稻荷', '二条城', '賞楓', 'url', 'title']\n",
      "['月桂冠大倉紀念館', '寺田屋', '本能寺', '平等院', '道頓崛', 'url', 'title']\n",
      "['京都五行', 'Rosa', '一風堂', '六傳屋', '本能寺', 'url', 'title']\n",
      "['壬生寺', '本能寺', '有馬溫泉', '京都御所', '志津香', 'url', 'title']\n",
      "['東福寺', '六傳屋', '鳥岩樓', '名代豬排', '本能寺', 'url', 'title']\n",
      "['祗園', '神泉苑', '太秦映畫村', '建仁寺', '本能寺', 'url', 'title']\n",
      "['東寺', '本能寺', '東本願寺', '東福寺', '新福菜館', 'url', 'title']\n",
      "['京都駅', '夜楓', '建仁寺', '安井金比羅宮', '本能寺', 'url', 'title']\n",
      "['鴨川納涼床', '名代豬排', '本能寺', '先斗町', '心齋橋', 'url', 'title']\n",
      "['京都車站拉麵小路', '本能寺', '四條河原町', '先斗町', '岡本和服', 'url', 'title']\n",
      "['本能寺', '有馬溫泉', '二条城', '嵐山', '伏見稻荷大社', 'url', 'title']\n",
      "['本能寺', '知恩院', '西本願寺', '二條城', '京都塔', 'url', 'title']\n",
      "['哲學大道', '鞍馬寺', '本能寺', '貴船神社', '圓山公園', 'url', 'title']\n",
      "['天周', '本能寺', '志津香', '二條城', '難波', 'url', 'title']\n",
      "['四條河原町', '建仁寺', 'MishimaTei', '本能寺', '銀閣寺', 'url', 'title']\n",
      "['三千院', '信三郎帆布', '本能寺', '三重塔', '葫蘆', 'url', 'title']\n",
      "['山鉾巡行', '本能寺', '晴明神社', '二条城', '京都塔', 'url', 'title']\n",
      "['本能寺', '二條城', '北野天滿宮', '京都塔', '道頓崛', 'url', 'title']\n",
      "['本能寺', '晴明神社', '京都鐵道博物館', '宇治神社', '岡本和服', 'url', 'title']\n",
      "['本能寺', '仁和寺', '龍安寺', '嵯峨野', '西本願寺', 'url', 'title']\n",
      "['伏見稻禾神社', '本能寺', '東寺', '西本願寺', '六角堂', 'url', 'title']\n",
      "['Hibiki', '本能寺', '京都大學', '一澤帆布', '銀閣寺', 'url', 'title']\n",
      "['本能寺', '二條城', '參拜', '安井金比羅宮', '東本願寺', 'url', 'title']\n",
      "['本能寺', '寺町', '龍安寺', '錦天滿宮', '清水坂', 'url', 'title']\n",
      "['本能寺', '京都', '東西當', '回禮', '漆器', 'url', 'title']\n",
      "['阿倍野', '本能寺', 'Harukas', '哲學之道', '銀閣寺', 'url', 'title']\n",
      "['山元麺蔵', '本能寺', '二条城', '難波', '北野天滿宮', 'url', 'title']\n",
      "['本能寺', '心齋橋', '二條城', '二条城', '新京極', 'url', 'title']\n",
      "['月桂冠大倉紀念館', '八阪神社', '本能寺', '祇園祭', '銀閣寺', 'url', 'title']\n",
      "['本能寺', '晴明神社', '二条城', '難波', '野宮神社', 'url', 'title']\n",
      "['本能寺', '東本願寺', '知恩院', '祗園', '京都塔', 'url', 'title']\n",
      "['本能寺', '心齋橋', '二條城', '新京極', '東大寺', 'url', 'title']\n",
      "['豐國神社', '音羽瀑布', '本能寺', '遊船', '醍醐寺', 'url', 'title']\n",
      "['本能寺', '京都御所', '二条城', '京都', '伏見稻荷大社', 'url', 'title']\n",
      "['御朱印', '本能寺', '和服', '才', '藤森神社', 'url', 'title']\n",
      "['本能寺', '六角堂', '跳烏龜', '先斗町', '御朱印', 'url', 'title']\n",
      "['Umeda', '跳烏龜', '本能寺', '遊船', '千本鳥居', 'url', 'title']\n",
      "['晴明神社', '六角堂', '北野天滿宮', '鳥岩樓', '本能寺', 'url', 'title']\n",
      "['本能寺', '新福菜館', '天周', '晴明神社', '八坂神社', 'url', 'title']\n",
      "['蹴上傾斜鐵道', '激安殿堂', '本能寺', '難波', '東本願寺', 'url', 'title']\n",
      "['本能寺', '晴明神社', '錦天滿宮', '三十三間堂', '二条城', 'url', 'title']\n",
      "['二条城', '晴明神社', '鞍馬貴船', '比叡山', '本能寺', 'url', 'title']\n",
      "['本能寺', '高台寺', '京都靈山護國神社', '化野念佛寺', '先斗町', 'url', 'title']\n",
      "['本能寺', '二條城', '先斗町', '寺町', '鴨川納涼床', 'url', 'title']\n",
      "['本能寺', '東大寺', '三重塔', '寺町', '才', 'url', 'title']\n",
      "['御朱印', '本能寺', '和服', '銀閣寺', '才', 'url', 'title']\n",
      "['本能寺', '四條河原町', '知恩院', '道頓崛', '伏見稻荷大社', 'url', 'title']\n"
     ]
    }
   ],
   "source": [
    "cluster = np.where(km.labels_ == 9)[0]    ## --> 賞楓\n",
    "for i in cluster:\n",
    "    print([i for i in atcKwList[i]])"
   ]
  },
  {
   "cell_type": "code",
   "execution_count": 39,
   "metadata": {},
   "outputs": [
    {
     "name": "stdout",
     "output_type": "stream",
     "text": [
      "['染匠', '和服', 'En', '茶寮都路里', '參拜', 'url', 'title']\n",
      "['夢館', '家傳京飴', '和服', '八阪神社', '祇園小石', 'url', 'title']\n",
      "['和服', '京都', '幾小時', '清水寺', '如題', 'url', 'title']\n",
      "['岡本織物店', '和服', '岡本和服', '清水坂', '高台寺', 'url', 'title']\n",
      "['岡本', '岡本和服', '三十三間堂', '夜楓', '和服', 'url', 'title']\n",
      "['岡本', '和服', '西陣織會館', '吸油面紙', 'Yojiya', 'url', 'title']\n",
      "['和服', '花之繪姿', '振袖', '新京極', '才', 'url', 'title']\n",
      "['Tekuteku', '和服', 'Mai', 'Kyoto', '祇園', 'url', 'title']\n",
      "['和服', '下鴨神社', '錦市場', '平等院', '新京極', 'url', 'title']\n",
      "['和服', '清水寺', '京都', '夢夢家', '決麻煩', 'url', 'title']\n",
      "['和服', '圓光寺', '岡本', '詩仙堂', '常寂光寺', 'url', 'title']\n",
      "['花之繪姿', '和服', '寧寧之道', '二年坂', '三年坂', 'url', 'title']\n",
      "['嵐山', '和服', '清水寺', '一當', '禮拜天', 'url', 'title']\n",
      "['振袖', 'Tekuteku', '和服', '才', '髮', 'url', 'title']\n",
      "['伏見稻荷', '和服', '八坂神社', '清水寺', '數字', 'url', 'title']\n",
      "['振袖', '和服', '岡本', '夢館', '才', 'url', 'title']\n",
      "['和服', 'TekuTeku', '京都', '黑色', '成熟', 'url', 'title']\n",
      "['伏見稻荷大社', '和服', '祇園', '岡本', '清水坂', 'url', 'title']\n",
      "['和服', '二条城', '祇園', '哲學之道', '銀閣寺', 'url', 'title']\n",
      "['岡本', '岡本和服', '銀閣寺', '和服', '祇園', 'url', 'title']\n",
      "['和服', '岡本織物', '建仁寺', '岡本', '花見小路', 'url', 'title']\n",
      "['和服', '岡本織物', '吸油面紙', 'Art', '才', 'url', 'title']\n",
      "['和服', '和櫻', 'Mai', '才', '知恩院', 'url', 'title']\n",
      "['和服', '岡本織物', '岡本和服', '岡本', '高台寺', 'url', 'title']\n",
      "['和服', '夜楓', '心齋橋', '東福寺', '賞楓', 'url', 'title']\n",
      "['和服', '京都', '穿過', '東西買', 'Share', 'url', 'title']\n",
      "['和服', 'Tekuteku', '夢館', '京都', 'て', 'url', 'title']\n",
      "['和服', 'Sakura', 'Mai', '才', '京都', 'url', 'title']\n",
      "['和服', '京都', '穿', '著怕', '恥力', 'url', 'title']\n",
      "['銀閣寺', '振袖', '和服', '地主神社', '金閣寺', 'url', 'title']\n",
      "['河合神社', '下鴨神社', '和服', 'Tekuteku', '晴明神社', 'url', 'title']\n",
      "['振袖', '花之繪姿', '和服', '染匠', '岡本', 'url', 'title']\n",
      "['和服', '伏見稻荷', '黑門市場', '平等院', '東大寺', 'url', 'title']\n",
      "['和服', '染匠', '葫蘆', '柚子元', '先斗町', 'url', 'title']\n",
      "['和服', '鹿苑寺', '岡本', '五行Gogyo', '清水坂', 'url', 'title']\n",
      "['Sensho', '和服', '染匠', 'Yu', '建仁寺', 'url', 'title']\n",
      "['和服', '花之繪姿', 'Art', '茶寮都路里', '染匠', 'url', 'title']\n",
      "['八橋', '和服', '地主神社', '清水舞台', '大德寺', 'url', 'title']\n",
      "['振袖', '花之繪姿', '和服', '千本鳥居', '才', 'url', 'title']\n",
      "['葫蘆', '八坂塔', '京都駅', '伏見稻荷', '和服', 'url', 'title']\n",
      "['岡本織物', '和服', '茶寮都路里本店', '清水坂', '四條河原町', 'url', 'title']\n",
      "['和服', '岡本和服', '清水坂', '岡本', 'Rin', 'url', 'title']\n",
      "['振袖', '花之繪姿', '和服', '夢館', '才', 'url', 'title']\n",
      "['和服', '岡本織物店', '清水舞台', '音羽山', '參拜', 'url', 'title']\n",
      "['銀閣寺', '和服', '東本願寺', '四條河原町', '夢館', 'url', 'title']\n",
      "['振袖', '花之繪姿', '和服', '京都', '婆婆', 'url', 'title']\n",
      "['花之繪姿', '和服', '振袖', '吸油面紙', '清水舞台', 'url', 'title']\n",
      "['祇園', '染匠', '岡本', '和服', '阿姨', 'url', 'title']\n",
      "['嵯峨野', '清水坂', '和服', '二条城', '金閣寺', 'url', 'title']\n",
      "['和服', '平等院', '三年坂', '八坂神社', '京都', 'url', 'title']\n",
      "['八坂庚申堂', '永觀堂', '真如堂', '和服', '哲學之道', 'url', 'title']\n",
      "['二年坂', '和服', '寧寧之道', '三年坂', '花見小路', 'url', 'title']\n",
      "['和服', 'KyoSakura', 'Ei', '八坂神社', '京櫻', 'url', 'title']\n",
      "['涉成園', '建仁寺', '和服', 'KyoSakura', 'Udo', 'url', 'title']\n",
      "['花之繪姿', '和服', '白金', '老師', '祕', 'url', 'title']\n",
      "['岡本織物', '洛匠', '才', '和服', '高台寺', 'url', 'title']\n",
      "['岡本織物', '和服', '清水寺', '京料理', '十時', 'url', 'title']\n",
      "['染匠', '岡本', '和服', '岡本和服', '三年坂', 'url', 'title']\n",
      "['花之繪姿', '三嶋亭', '和服', '高台寺', '夜楓', 'url', 'title']\n",
      "['夢館', '夜櫻', '和服', '道頓崛', '二年坂', 'url', 'title']\n",
      "['和服', 'Fu', '伏見稻荷', '京都', '正妹', 'url', 'title']\n",
      "['京都駅', '振袖', '和服', '點貴船', '多夢多', 'url', 'title']\n",
      "['和服', '染匠', '地主神社', '才', '八坂神社', 'url', 'title']\n",
      "['和服', '花見小路', '京都', '中國農', '會常', 'url', 'title']\n",
      "['和服', 'Tekuteku', '阿婆', '腰間', 'TekuTeku', 'url', 'title']\n",
      "['花之繪姿', '振袖', '染匠', '和服', '才', 'url', 'title']\n",
      "['京都錦市場', '上賀茂神社', '二條城', '和服', '哲學之道', 'url', 'title']\n",
      "['Kiyomizu', 'Rin', '和服', '岡本', '道頓崛', 'url', 'title']\n",
      "['振袖', '岡本', '和服', '花之繪姿', '才', 'url', 'title']\n",
      "['和服', '祗園', '岡本和服', '岡本', '賞楓', 'url', 'title']\n",
      "['岡本', '大起水產迴轉壽司', 'Harbs', '錦天滿宮', '和服', 'url', 'title']\n",
      "['岡本織物', '和服', '染匠', '夢館', '京都', 'url', 'title']\n",
      "['岡本織物', '和服', '岡本織物店', '才', '京都', 'url', 'title']\n",
      "['和服', 'Sakura', '花見小路', '八坂神社', '圓山公園', 'url', 'title']\n",
      "['岡本', '和服', '京都', '體驗過', 'Kkday', 'url', 'title']\n",
      "['道頓崛', '和服', '岡本和服', '京都塔', '花見小路', 'url', 'title']\n",
      "['美術館', '西陣織會館', '和服', '晴明神社', '平安神宮', 'url', 'title']\n",
      "['和服', '岡本和服', '岡本', '才', '綁', 'url', 'title']\n",
      "['和服', '岡本織物', 'Fu', '地主神社', '花見小路', 'url', 'title']\n",
      "['和服', 'Mai', '才', '八阪神社', '阿姨', 'url', 'title']\n",
      "['和服', '岡本和服', '清水坂', '京都', '清水寺', 'url', 'title']\n",
      "['和服', '岡本織物', '地主神社', '清水舞台', '清水坂', 'url', 'title']\n",
      "['振袖', '和服', '花之繪姿', 'Noel', '婆婆', 'url', 'title']\n",
      "['岡本織物', '和服', '夢館', 'Art', 'Sakura', 'url', 'title']\n",
      "['和服', '八橋', '岡本', '染匠', '京都駅', 'url', 'title']\n",
      "['夢館', '錦市場', '和服', '八阪神社', '高台寺', 'url', 'title']\n",
      "['遊船', '和服', '祗園', '夢館', '夜櫻', 'url', 'title']\n",
      "['和服', '北野天滿宮', '伏見稻荷', '東寺', '錦市場', 'url', 'title']\n",
      "['岡本織物', '和服', '賞楓', '高台寺', '詩仙堂', 'url', 'title']\n",
      "['KitchenPapa', 'Fresco', '岡本', '中村藤吉', '和服', 'url', 'title']\n",
      "['岡本', '大起水產迴轉壽司', '和服', '八坂神社', '花見小路', 'url', 'title']\n",
      "['岡本', '和服', '岡本和服', '夢館', '感冒', 'url', 'title']\n",
      "['岡本', '和服', '八坂庚申堂', '祗園', '岡本和服', 'url', 'title']\n",
      "['心齋橋', '和服', '伏見稻荷', '能涵', '我連去', 'url', 'title']\n",
      "['茶寮都路里高台寺店', '和服', 'Giontsuji', '夢館', '高台寺', 'url', 'title']\n",
      "['振袖', '花之繪姿', '和服', '染匠', '參拜', 'url', 'title']\n",
      "['花之繪姿', '振袖', '和服', '才', '京都', 'url', 'title']\n",
      "['Bunzo', '和櫻', '知恩院', '和服', '黑門市場', 'url', 'title']\n",
      "['和服', '岡本和服', '岡本', '染匠', '清水坂', 'url', 'title']\n",
      "['Tekuteku', '和服', 'Kyoto', '石塀小路', '八坂塔', 'url', 'title']\n",
      "['新京極', '高台寺', '和服', '岡本', '夜櫻', 'url', 'title']\n",
      "['岡本和服', '和服', 'Fu', 'Mai', '淀屋橋', 'url', 'title']\n",
      "['和服', '夢館', '北野天滿宮', '八阪神社', '銀閣寺', 'url', 'title']\n",
      "['神泉苑', '二条城', '和服', '伏見稻荷', '高台寺', 'url', 'title']\n",
      "['仁和寺', '和服', '龍安寺', '染匠', '金閣寺', 'url', 'title']\n",
      "['夢館', '和服', '伏見稻荷大社', '錦市場', '黑門市場', 'url', 'title']\n",
      "['岡本', '和服', '高台寺', '振袖', '岡本和服', 'url', 'title']\n",
      "['振袖', '和服', '京都', '單純想', '指指', 'url', 'title']\n",
      "['和服', '東大寺', '清水寺', '五環球', '難環球', 'url', 'title']\n",
      "['和服', '圓山公園', '伏見稻荷大社', '夢館', '錦天滿宮', 'url', 'title']\n",
      "['和服', '八坂塔', '染匠', '岡本', '夢館', 'url', 'title']\n",
      "['和服', '岡本和服', '岡本', '才', '染匠', 'url', 'title']\n",
      "['鞍馬山', '鞍馬貴船', '貴船神社', '染匠', '和服', 'url', 'title']\n",
      "['和服', '岡本', '高桐院', '清水舞台', '吸油面紙', 'url', 'title']\n",
      "['花之繪姿', '振袖', '和服', '奧丹', '才', 'url', 'title']\n",
      "['平安樂市', '花之繪姿', '振袖', '和服', '伏見稻荷', 'url', 'title']\n",
      "['京都大學', '和服', '嵐山', '千本鳥居', '新京極', 'url', 'title']\n",
      "['音羽山', '和服', 'Pin', '清水坂', '和櫻', 'url', 'title']\n",
      "['染匠', '和服', '伏見稻荷大社', '千本鳥居', '參拜', 'url', 'title']\n",
      "['岡本織物', '和服', 'Fu', '才', '京都', 'url', 'title']\n",
      "['拉麵小路', '銀閣寺', '夢館', '和服', '北野天滿宮', 'url', 'title']\n",
      "['和服', '京都', '懷孕週', '賞櫻團', '山富', 'url', 'title']\n",
      "['三年坂', '和服', '京都', 'CsjtqQB', 'PentaxKRSigmaFC', 'url', 'title']\n",
      "['岡本織物', '三嶋亭', '一蘭拉麵', '和服', '黑門市場', 'url', 'title']\n",
      "['振袖', '花之繪姿', '和服', '才', '二年坂', 'url', 'title']\n",
      "['振袖', '花之繪姿', '和服', '才', '老師', 'url', 'title']\n",
      "['振袖', '岡本', '和服', '高台寺', 'Gion', 'url', 'title']\n",
      "['岡本織物', '和服', '染匠', '夢館', 'Mai', 'url', 'title']\n",
      "['和服', '石屏小路', '圓山公園', '先斗町', '夜櫻', 'url', 'title']\n",
      "['和櫻', '和服', '知恩院', '八坂神社', '祇園', 'url', 'title']\n",
      "['岡本', '伏見稻荷', '和服', '八阪神社', '高台寺', 'url', 'title']\n",
      "['和服', '染匠', '才', 'Tjtj', 'Album', 'url', 'title']\n",
      "['伏見稻荷', '和服', '心齋橋', '黑門市場', '祇園', 'url', 'title']\n",
      "['和服', '夢館', 'Yumeyakata', '地主神社', '二年坂', 'url', 'title']\n",
      "['北野天滿宮', '和服', '舞子公園', '遊船', '拉麵小路', 'url', 'title']\n",
      "['岡本', '和服', '地主神社', '音羽瀑布', '長羽織', 'url', 'title']\n",
      "['和服', '夢館', '高台寺', '祇園', '京都', 'url', 'title']\n",
      "['二條城', '和服', '夜櫻', '花之繪姿', '平野神社', 'url', 'title']\n",
      "['和服', '京都', '九月', '跪算盤', '對氣候', 'url', 'title']\n",
      "['和服', '染匠', '夢館', '千本鳥居', '京都', 'url', 'title']\n",
      "['岡本', '和服', '染匠', '寧寧之道', '才', 'url', 'title']\n",
      "['北野天滿宮', '鳥岩樓', '和服', 'Ark', 'Hana', 'url', 'title']\n",
      "['和服', '嵐山', '岡本和服', '才', '地主神社', 'url', 'title']\n",
      "['花之繪姿', '振袖', '和服', '銀閣寺', '才', 'url', 'title']\n",
      "['和服', '心齋橋', '一蘭拉麵', '八阪神社', '黑門市場', 'url', 'title']\n",
      "['和服', 'Harukas', '天天有', '祇園花間小路', 'Gion', 'url', 'title']\n",
      "['花之繪姿', '和服', '才', '婆婆', '老公', 'url', 'title']\n",
      "['和服', '夢館', 'Yumeyakata', '金閣寺', 'Mai', 'url', 'title']\n",
      "['岡本', '和服', '染匠', '岡本和服', '夢館', 'url', 'title']\n",
      "['夢館', '和服', '二年坂', '八坂神社', '清水坂', 'url', 'title']\n",
      "['花之繪姿', '京都塔', '和服', '新京極', '金閣寺', 'url', 'title']\n",
      "['岡本', '清水坂', '和服', '二年坂', '三年坂', 'url', 'title']\n",
      "['和服', '花見小路', '京都', '穿著', '體驗排', 'url', 'title']\n",
      "['和服', '金閣寺', '石塀小路', '八坂塔', '岡本和服', 'url', 'title']\n",
      "['岡本織物', '清水坂', '和服', '刷卡', '京都', 'url', 'title']\n",
      "['嵐山花燈路', '和服', '賞楓', '上賀茂神社', '東寺', 'url', 'title']\n",
      "['和服', '北野天滿宮', '遊船', '志津香', '京都拉麵小路', 'url', 'title']\n",
      "['東福寺', '岡本和服', '三年坂', '高台寺', '和服', 'url', 'title']\n",
      "['嵐山花燈路', '和服', '上賀茂神社', '東寺', '錦市場', 'url', 'title']\n",
      "['和服', '參拜', '岡本和服', '岡本', '南禪寺', 'url', 'title']\n",
      "['和服', '夢館', '花見小路', '祇園', '燒檔', 'url', 'title']\n",
      "['和服', '岡本和服', '岡本', '二条城', '才', 'url', 'title']\n",
      "['岡本', '道頓崛', '三重塔', '伏見稻荷大社', '和服', 'url', 'title']\n",
      "['真如堂', '夜楓', '神護寺', '和服', '寶泉院', 'url', 'title']\n",
      "['Tekuteku', '和服', '青蓮院', 'Kyoto', '才', 'url', 'title']\n",
      "['和服', '夢館', '祇園', 'Kyoto', '伏見稻荷', 'url', 'title']\n",
      "['和服', '日月庵', '橡子共和國', 'Mai', 'Sakura', 'url', 'title']\n",
      "['和服', '岡本', '清水舞台', 'TheCube', '參拜', 'url', 'title']\n",
      "['Bon', '和服', '染匠', '石塀小路', '八坂神社', 'url', 'title']\n",
      "['岡本和服', '和服', '高台寺', '奧丹', '六傳屋', 'url', 'title']\n",
      "['岡本', '和服', '京都', '體驗過', 'Kkday', 'url', 'title']\n",
      "['岡本', '和服', 'Dl', 'Dropbox', '京都', 'url', 'title']\n",
      "['石塀小路', '二年坂', '三年坂', '和服', '才', 'url', 'title']\n",
      "['岡本', '伏見稻荷', '和服', '黑門市場', '嵐山', 'url', 'title']\n",
      "['和服', '岡本', '嵐山', '伏見稻荷大社', '八坂神社', 'url', 'title']\n",
      "['和服', 'Fu', '銀閣寺', '到府', '京都', 'url', 'title']\n",
      "['和服', '岡本', '清水坂', '夢館', '普門庵', 'url', 'title']\n",
      "['Tekuteku', '和服', '錦市場', '八阪神社', '心齋橋', 'url', 'title']\n",
      "['清水坂', '岡本和服', '音羽之瀑', '和服', '二年坂', 'url', 'title']\n",
      "['和服', '夢館', '染匠', '岡本', '才', 'url', 'title']\n",
      "['夢館', '和服', '常寂光寺', '清水坂', '花見小路', 'url', 'title']\n",
      "['鴨川Takashi', '阿古屋茶屋', '八坂神社', '和服', '一蘭', 'url', 'title']\n",
      "['和服', '高台寺', '夜櫻', '清水寺', '照些', 'url', 'title']\n",
      "['和服', '岡本', '夜楓', '岡本織物', '麒麟亭', 'url', 'title']\n",
      "['Sunny', '和服', '才', '清水寺', '京都', 'url', 'title']\n",
      "['八坂更申堂', '和服', '祇園', '八坂神社', '花見小路', 'url', 'title']\n",
      "['和服', '京都', '徵文楓', '之美人', 'onC', 'url', 'title']\n",
      "['RentalOne', '和服', '岡本織物', 'Art', '四條河原町', 'url', 'title']\n",
      "['和櫻', '和服', '圓山公園', '建仁寺', '安井金比羅宮', 'url', 'title']\n",
      "['岡本', '和服', '八阪神社', '高台寺', '清水寺', 'url', 'title']\n",
      "['和服', '銀閣寺', '才', '楊照', '京都', 'url', 'title']\n",
      "['蕎麦屋', '行者橋', '八橋', '和服', '三十三間堂', 'url', 'title']\n",
      "['和服', '激安殿堂', '岡本', '三十三間堂', '平等院', 'url', 'title']\n",
      "['岡本', '岡本和服', '染匠', 'Fu', '和服', 'url', 'title']\n",
      "['和服', '岡本', '京都', '草地', '東京', 'url', 'title']\n",
      "['和服', '岡本', '清水寺', '京都', '預測櫻', 'url', 'title']\n",
      "['茶寮寶泉', '喫茶六花', '大原之里', '一保堂', '和服', 'url', 'title']\n",
      "['石塀小路', '和服', '寧寧之道', '二年坂', '三年坂', 'url', 'title']\n",
      "['岡本', '和服', '清水坂', '三十三間堂', '才', 'url', 'title']\n",
      "['祇園祭宵山', '祇園', '和服', '寺田屋', '山鉾巡行', 'url', 'title']\n",
      "['和服', '岡本', '三年坂', '八坂神社', '花見小路', 'url', 'title']\n",
      "['Tekuteku', '和服', '懷孕', 'Tskutsku', '能體驗', 'url', 'title']\n",
      "['Arietta', '和服', '錦市場', '夢館', '志津香', 'url', 'title']\n",
      "['木屋町通', '和服', '高瀨川', '哲學之道', '圓山公園', 'url', 'title']\n",
      "['Junes', '和服', '參拜', '地主神社', 'pringN', 'url', 'title']\n",
      "['和服', 'Tekuteku', '八坂塔', 'Miupix', '京都', 'url', 'title']\n",
      "['和服', '染匠', '清水舞台', '岡本織物', '清水坂', 'url', 'title']\n",
      "['岡本', '心齋橋', '和服', '東大寺', '難波', 'url', 'title']\n",
      "['和服', '岡本', '花見小路', '京都', '男生', 'url', 'title']\n",
      "['和服', '知恩院', '和櫻', '小姐', '京都', 'url', 'title']\n",
      "['振袖', '東本願寺', '夢館', '和服', '染匠', 'url', 'title']\n",
      "['岡本', '和服', '才', '京都', '搭實', 'url', 'title']\n",
      "['和櫻', '岡本', '和服', '岡本和服', '振袖', 'url', 'title']\n",
      "['夢京都', '和服', '過版', '凍壞', '婚攝', 'url', 'title']\n",
      "['岡本', '和服', '染匠', '岡本織物', 'Sensho', 'url', 'title']\n",
      "['岡本織物', '岡本', '京都', '五條', '看書上', 'url', 'title']\n",
      "['和服', '嵐山', '難波', '嵯峨野竹林', '圓山公園', 'url', 'title']\n",
      "['六角堂', '三嶋亭', '岡本', '木屋町通', '新京極', 'url', 'title']\n",
      "['遊船', '中村藤吉', '和服', '京都塔', '道頓崛', 'url', 'title']\n",
      "['岡本', '岡本和服', '伏見稻荷', '和服', '難波', 'url', 'title']\n",
      "['岡本織物', '和服', '藤菜美', '八坂神社', '岡本', 'url', 'title']\n",
      "['和服', '心齋橋', '清水寺', '京都', '退稅', 'url', 'title']\n",
      "['八坂神社', '和服', '伏見稻荷', '稻荷大社', '高台寺', 'url', 'title']\n",
      "['和服', 'KyoSakura', '八阪神社', '祇園祭', '高台寺', 'url', 'title']\n",
      "['和服', '繩', '租借', '服想', '只查', 'url', 'title']\n",
      "['和服', 'Fu', '岡山城', 'Cafe', 'Mai', 'url', 'title']\n",
      "['西本願寺', '金閣寺', '和服', '京都', '清水寺', 'url', 'title']\n",
      "['岡本', '伏見稻荷', '和服', '金閣寺', '清水寺', 'url', 'title']\n",
      "['葫蘆', '和服', '阿倍野', '夢館', '道頓崛', 'url', 'title']\n",
      "['和服', '夢館', '木屐', '消除', '太羞恥', 'url', 'title']\n",
      "['和服', 'Miyako', '岡本', '祇園', '岡本和服', 'url', 'title']\n",
      "['GionNishi', 'Yu', '和服', '祇園', 'EEAEBEEAeB', 'url', 'title']\n",
      "['岡本', '金閣寺', '伏見稻荷大社', '和服', '京都', 'url', 'title']\n",
      "['岡本', '寧寧之道', '道頓崛', '二年坂', '心齋橋', 'url', 'title']\n",
      "['和服', '觀音寺', '吹雪', 'Sakura', '染匠', 'url', 'title']\n",
      "['岡本', '石塀小路', '八坂塔', '寧寧之道', '二年坂', 'url', 'title']\n",
      "['和服', '難波', '京都御所', '夢館', '下鴨神社', 'url', 'title']\n",
      "['和服', 'Tekuteku', 'Mai', '八坂神社', '伏見稻荷', 'url', 'title']\n",
      "['岡本和服', '岡本', '和服', '二年坂', '三年坂', 'url', 'title']\n",
      "['和服', 'KyoSakura', '染匠', '岡本', '夢館', 'url', 'title']\n",
      "['和服', '夢館', 'Yumeyakata', '伏見稻荷大社', '才', 'url', 'title']\n",
      "['和服', 'Mai', '才', '京都', '老師', 'url', 'title']\n",
      "['和服', '東大寺', '嵐山', '金閣寺', '京都', 'url', 'title']\n",
      "['夢館', '和服', '茶寮都路里', '岡本', '染匠', 'url', 'title']\n",
      "['和服', '振袖', '染匠', '才', '婆婆', 'url', 'title']\n",
      "['信三郎帆布', '金閣寺', '知恩院', '和服', '心齋橋', 'url', 'title']\n",
      "['和服', '岡本', 'Yu', '染匠', '清水舞台', 'url', 'title']\n",
      "['和服', '京都', 'QqwenQqsunny', '熱昏', '大穿', 'url', 'title']\n",
      "['朝日堂', 'Asahi', '和服', '參拜', '才', 'url', 'title']\n",
      "['夢館', '和服', '永觀堂', '南禪寺', '賞楓', 'url', 'title']\n",
      "['和服', '宇治神社', '宇治上神社', '染匠', '平等院', 'url', 'title']\n",
      "['和服', '一蘭', '二年坂', '三年坂', '錦市場', 'url', 'title']\n",
      "['京都塔', '和服', '信三郎帆布', '伏見稻荷', '祇園', 'url', 'title']\n",
      "['祗園', '金閣寺', '岡本', '中村藤吉', '和服', 'url', 'title']\n",
      "['和服', '岡本和服', '鹿苑寺', '音羽山', '才', 'url', 'title']\n",
      "['寧寧之道', '和服', '心齋橋', '嵯峨野竹林', '岡本和服', 'url', 'title']\n",
      "['本願寺', '二条城', '三十三間堂', '和服', '京都御所', 'url', 'title']\n",
      "['岡本', '和服', '岡本和服', '圓山公園', 'InodaCoffee', 'url', 'title']\n",
      "['Tekuteku', '和服', '染匠', '三年坂', '八坂神社', 'url', 'title']\n",
      "['和服', '岡本', '岡本和服', '京都', '草鞋', 'url', 'title']\n",
      "['百萬遍手作市集', '西本願寺', '和服', '二条城', '北野天滿宮', 'url', 'title']\n",
      "['和服', '振袖', '岡本和服', '岡本', '祇園', 'url', 'title']\n",
      "['和櫻', '和服', '知恩院', '京都', '才', 'url', 'title']\n",
      "['八阪神社', '知恩院', '心齋橋', '和服', '平等院', 'url', 'title']\n",
      "['Tekuteku', '常寂光寺', '賞楓', '和服', '阿倍野', 'url', 'title']\n",
      "['嵐山嵯峨野觀光小火車', '晴明神社', '和服', '南禪寺', '六傳屋', 'url', 'title']\n",
      "['焼肉', '和服', '八坂塔', '猪一', '岡本和服', 'url', 'title']\n",
      "['和服', '日月庵', '岡本和服', '岡本', '夜櫻', 'url', 'title']\n",
      "['和服', '振袖', '花之繪姿', '京都大學', '音羽瀑布', 'url', 'title']\n",
      "['和服', '京都', '終於存', '蠻熱', '月初', 'url', 'title']\n",
      "['和服', '時夠', '清水寺', '過美山', '加年阪', 'url', 'title']\n",
      "['和服', '嵐山', '嵯峨野竹林', '染匠', '常寂光寺', 'url', 'title']\n",
      "['岡本和服', '岡本', '和服', '預約', '號要', 'url', 'title']\n",
      "['和服', '伏見稻荷大社', '地主神社', '祇園', '嵐山', 'url', 'title']\n",
      "['和服', '鹿苑寺', '岡本', '五行Gogyo', '大德寺', 'url', 'title']\n",
      "['和服', 'Junes', '參拜', '地主神社', '京都', 'url', 'title']\n",
      "['賞楓', '和服', '參拜', '岡本和服', '八坂神社', 'url', 'title']\n",
      "['Tekuteku', '和服', '清水坂', '才', '京都', 'url', 'title']\n",
      "['伏見稻荷', '嵯峨野竹林', '和服', '祇園', '嵐山', 'url', 'title']\n",
      "['和服', '黑門市場', '嵐山', '金閣寺', '心齋橋', 'url', 'title']\n",
      "['二条城', '渡月橋', '千本鳥居', '伏見稻荷', '和服', 'url', 'title']\n",
      "['和服', '京都', '旅來', '地到', '追櫻', 'url', 'title']\n",
      "['八坂塔', '和服', '地主神社', '伏見稻荷大社', '三年坂', 'url', 'title']\n",
      "['岡本', '和服', '知恩寺', '下鴨神社', '金閣寺', 'url', 'title']\n",
      "['岡本織物', '和服', '難波', '心齋橋', '京都', 'url', 'title']\n",
      "['和服', '出外人', '續篇', '權有', '侵', 'url', 'title']\n",
      "['朝日堂', 'Kuma', '和服', '才', '京都', 'url', 'title']\n",
      "['夢京都', '和服', '祗園', '夢京都和服體驗', '木屋町通', 'url', 'title']\n",
      "['和服', '染匠', 'Otowa', '音羽瀑布', 'Sensho', 'url', 'title']\n",
      "['和服', '順正湯豆腐', 'Tekuteku', '夢館', '染匠', 'url', 'title']\n",
      "['Rita', '和服', '岡本', '祇園', '清水寺', 'url', 'title']\n",
      "['Tekuteku', '和服', '大谷本廟', '夢京都', '八阪神社', 'url', 'title']\n",
      "['和服', '京都', '精準', '昆娜', 'ena', 'url', 'title']\n",
      "['和服', '花見小路', '法觀寺', 'Sakura', '八坂塔', 'url', 'title']\n",
      "['和服', 'Tekuteku', '藤菜美', '京都北山', '寧寧之道', 'url', 'title']\n",
      "['和服', 'Tekuteku', '染匠', '岡本', '嵐山', 'url', 'title']\n",
      "['和服', '花見小路', '祗園', '才', '祇園', 'url', 'title']\n",
      "['清水舞台', '和服', '地主神社', '八橋', '三重塔', 'url', 'title']\n",
      "['和服', '祇園', '八坂神社', '花見小路', '祇園祭', 'url', 'title']\n",
      "['和服', '夢館', '夢京都', '岡本', '振袖', 'url', 'title']\n",
      "['和服', '石塀小路', '貴船神社', '千本鳥居', 'Mai', 'url', 'title']\n",
      "['和服', '普門庵', '夢館', 'Yumeyakata', 'Mai', 'url', 'title']\n",
      "['岡本', '和服', '西陣', '岡本織物店', '清水坂', 'url', 'title']\n",
      "['和服', '日月庵', '岡本和服', 'Bar', '岡本', 'url', 'title']\n",
      "['和服', 'Tekuteku', '祗園', '才', 'Mm', 'url', 'title']\n",
      "['和服', '清水舞台', '才', '地主神社', '八坂神社', 'url', 'title']\n",
      "['和服', '伏見稻禾神社', 'Kyoto', 'Nara', '道頓崛', 'url', 'title']\n",
      "['和服', '岡本', '染匠', 'Sensho', 'Yu', 'url', 'title']\n",
      "['岡本織物', '和服', '地主神社', '清水舞台', '清水坂', 'url', 'title']\n",
      "['和服', '京都', '清水寺', 'nCmvhbxrvcgljlnbpegLdcUzxqilcjpyxqiojeMdmzodczotqsimv', 'iMtuwmzmNzqynhYbqwZdbommkCmebCMJezxhivaQcfpNlsWw', 'url', 'title']\n",
      "['夢京都', '和服', '大國藥妝', '祇園', '夢京都和服體驗', 'url', 'title']\n",
      "['河源町', '和服', '順正湯豆腐', '心齋橋', '一蘭拉麵', 'url', 'title']\n",
      "['涉成園', '夢館', '和服', '夜櫻', 'Yumeyakata', 'url', 'title']\n",
      "['Yu', '和服', '禪林寺', '伏見稻荷大社', '參拜', 'url', 'title']\n",
      "['岡本', '和服', '地主神社', '染匠', '夢館', 'url', 'title']\n",
      "['Tekuteku', '普門庵', '和服', '岡本', 'Fu', 'url', 'title']\n",
      "['和服', '岡本織物', '八坂塔', '三年坂', '染匠', 'url', 'title']\n",
      "['和服', '岡本和服', '伏見稻荷', '千本鳥居', '八坂神社', 'url', 'title']\n",
      "['和服', '夢館', '長羽織', '城南宮', '梅園', 'url', 'title']\n",
      "['圓山公園', '八坂神社', '岡本織物', '和服', 'Umeda', 'url', 'title']\n",
      "['和服', '岡本', '八坂庚申堂', '清水舞台', '祇園祭', 'url', 'title']\n",
      "['岡本', '銀閣寺', '和服', '八坂神社', '哲學之道', 'url', 'title']\n",
      "['夢館', '和服', '振袖', '嵐山', '嵯峨野', 'url', 'title']\n",
      "['和服', '岡本織物', '洛匠', '寧寧之道', '岡本', 'url', 'title']\n",
      "['和服', '紅姬', '野宮神社', '嵐山', '四條河原町', 'url', 'title']\n",
      "['岡本', '和服', '銀閣寺', '才', '染匠', 'url', 'title']\n",
      "['夢館', '和服', '心齋橋', '京都', '欣晴', 'url', 'title']\n",
      "['和服', 'Tekuteku', 'Rin', 'Ei', 'Mai', 'url', 'title']\n",
      "['和服', '祇園', '勝牛', '二年坂', '三年坂', 'url', 'title']\n",
      "['和服', '岡本', '難波', '一蘭拉麵', '激安殿堂', 'url', 'title']\n",
      "['和服', '岡本和服', '伏見稻荷大社', '八坂神社', '花見小路', 'url', 'title']\n",
      "['和服', '奧丹', '順正', 'Wasabi', '賞楓', 'url', 'title']\n",
      "['和服', '高瀨川', '銀閣寺', '慈照寺', '伏見稻禾神社', 'url', 'title']\n",
      "['和服', '岡本和服', '岡本', '三重塔', 'Monk', 'url', 'title']\n",
      "['和服', '岡本和服', 'Horai', '音羽之瀑', 'Eve', 'url', 'title']\n",
      "['和服', '岡本', '長羽織', 'Gogo', 'Kiyomizu', 'url', 'title']\n",
      "['和服', '二年坂', '洋食屋', '清水坂', 'Kiyomizu', 'url', 'title']\n",
      "['和服', '祗園', '建仁寺', 'Mai', '茶寮都路里', 'url', 'title']\n",
      "['和服', '御手洗', 'Maruki', 'Okina', '京都', 'url', 'title']\n",
      "['八坂庚申堂', '和服', 'Maruki', 'Okina', 'Arabica咖啡', 'url', 'title']\n",
      "['和服', '千本鳥居', '大國藥妝', '花見小路', '伏見稻荷', 'url', 'title']\n",
      "['石塀小路', '葫蘆', '和服', '三年坂', '八坂神社', 'url', 'title']\n",
      "['Yu', '和服', '禪林寺', '岡本織物', '岡本和服', 'url', 'title']\n",
      "['和服', 'Tekuteku', 'Arabicakyoto', '石塀小路', '八坂塔', 'url', 'title']\n",
      "['和服', '夢京都', '振袖', '河源町', '寺町', 'url', 'title']\n",
      "['和服', '岡本', 'Mai', 'Fu', '夢京都', 'url', 'title']\n",
      "['祗園', '和服', '岡本和服', '岡本', '參拜', 'url', 'title']\n",
      "['Yayoiken', 'Yumeyakata', '鹿苑寺', 'Harukas', '和服', 'url', 'title']\n",
      "['八坂塔', '焼肉', '岡本和服', '和服', '京極鰻魚飯', 'url', 'title']\n",
      "['和服', '稻荷大社', '岡本織物', '茶寮都路里本店', '茶寮都路里', 'url', 'title']\n",
      "['和服', '振袖', '才', '參拜', 'Fu', 'url', 'title']\n",
      "['和服', 'Tekuteku', '八坂更申堂', 'Fu', '清水舞台', 'url', 'title']\n",
      "['岡本織物', '和服', 'Ima', '清水坂', '京都塔', 'url', 'title']\n",
      "['和服', '滿月', 'Ima', '八橋', '岡本織物', 'url', 'title']\n",
      "['和服', '振袖', '岡本', '祇園', '花之繪姿', 'url', 'title']\n",
      "['高台寺', '清水坂', '靈山觀音', '和服', '三年坂', 'url', 'title']\n",
      "['岡本和服', '清水坂', '和服', '岡本', '才', 'url', 'title']\n",
      "['Tekuteku', '和服', '染匠', '賞楓', '清水舞台', 'url', 'title']\n"
     ]
    }
   ],
   "source": [
    "cluster = np.where(km.labels_ == 10)[0]    ## --> 和服 染匠 \n",
    "for i in cluster:\n",
    "    print([i for i in atcKwList[i]])"
   ]
  },
  {
   "cell_type": "code",
   "execution_count": 40,
   "metadata": {},
   "outputs": [
    {
     "name": "stdout",
     "output_type": "stream",
     "text": [
      "['二条城', '夜櫻', '夜楓', '賞楓', '才', 'url', 'title']\n",
      "['夜櫻', '二条城', '大覺寺', '高瀨川', '平野神社', 'url', 'title']\n",
      "['葵祭', '東山花燈路', '夜櫻', '二条城夜間點燈', '北野天滿宮', 'url', 'title']\n",
      "['夜櫻', '平野神社', '毘沙門堂', '清涼寺', '建仁寺', 'url', 'title']\n",
      "['平野神社', '夜櫻', '京都塔', '嵐山', '才', 'url', 'title']\n",
      "['高瀨川', '夜櫻', '四條河原町', '木屋町通', '櫻花祭', 'url', 'title']\n",
      "['東寺', '木屋町通', '夜櫻', '平野神社', '毘沙門堂', 'url', 'title']\n",
      "['夜櫻', '二条城', '醍醐寺', '京都御苑', '圓山公園', 'url', 'title']\n",
      "['岡崎神社', '夜櫻', '祗園', '寧寧之道', '哲學之道', 'url', 'title']\n",
      "['東寺', '京都駅', '夜櫻', '紫藏', '平野神社', 'url', 'title']\n",
      "['哲學之道', 'Harukas', '蹴上鐵道', '阿倍野', '夜櫻', 'url', 'title']\n",
      "['平野神社', '醍醐寺', '夜櫻', '西本願寺', '道頓崛', 'url', 'title']\n",
      "['醍醐寺', '平野神社', '京都御所', '夜櫻', '伏見稻荷', 'url', 'title']\n",
      "['四條河原町', '夜櫻', '岡崎疏水', '山科疏水', '難波', 'url', 'title']\n",
      "['夜櫻', '岡崎疏水', '高瀨川', 'Harukas', '蹴上鐵道', 'url', 'title']\n",
      "['夜櫻', '醍醐寺', '山科疏水', '賞楓', '高瀨川', 'url', 'title']\n",
      "['貴船神社', '京都御所', '夜櫻', '鞍馬寺', '平安神宮', 'url', 'title']\n",
      "['夜櫻', '平野神社', '祗園', '南禪寺', '哲學之道', 'url', 'title']\n",
      "['夜櫻', '妙顯寺', '本法寺', '千本釋迦堂', '大報恩寺', 'url', 'title']\n",
      "['明日香', '四條河原町', '夜櫻', '錦天滿宮', '二條城', 'url', 'title']\n",
      "['東寺', '夜櫻', '二條城', '才', '京都', 'url', 'title']\n",
      "['櫻吹雪', '夜櫻', '京都', '時東京', '外傳', 'url', 'title']\n",
      "['夜櫻', '滿月', 'Kyoto', '祇園', '京都', 'url', 'title']\n",
      "['二条城', '夜櫻', '神泉苑', 'Kyoto', '平安神宮', 'url', 'title']\n",
      "['蹴上傾斜鐵道', '夜櫻', '伏見大社', '銀閣寺', '平安神宮', 'url', 'title']\n",
      "['六曜社', '夜櫻', '京都御苑', '東寺', '美術館', 'url', 'title']\n",
      "['夢館', '夜櫻', '阿倍野', '蹴上傾斜鐵道', 'Yojiya', 'url', 'title']\n",
      "['夜櫻', '蹴上傾斜鐵道', '山科疏水', '醍醐寺', '淀屋橋', 'url', 'title']\n",
      "['夢館', '夜櫻', '難波', '平野神社', '東寺', 'url', 'title']\n",
      "['夜櫻', '參拜', '清水寺', '想照', 'OlympusEPC', 'url', 'title']\n",
      "['夜櫻', '池塘', '清水寺', '京都', '花都', 'url', 'title']\n",
      "['夜櫻', '岡本和服', '琵琶湖疏水', '大覺寺', '蹴上鐵道', 'url', 'title']\n",
      "['夜櫻', '京都', 'UrhbB', 'nyWC', '襯潭映櫻', 'url', 'title']\n",
      "['夜櫻', '山科疏水', '高瀨川', '平安神宮', '蹴上鐵道', 'url', 'title']\n",
      "['夜櫻', '佛光寺', '遊船', '醍醐寺', '京都御苑', 'url', 'title']\n",
      "['南禪寺', '高瀨川', '圓山公園', '夜櫻', '二條城', 'url', 'title']\n",
      "['夜櫻', '琵琶湖疏水', '蹴上傾斜鐵道', '二條城', '伏見稻荷大社', 'url', 'title']\n",
      "['夜櫻', '參拜', '蹴上傾斜鐵道', '花見小路', '二条城', 'url', 'title']\n",
      "['夜櫻', '一乘寺', '茶寮都路里', '二條城', '平安神宮', 'url', 'title']\n",
      "['夜櫻', '山科疏水', '高瀨川', '蹴上鐵道', '志津香', 'url', 'title']\n",
      "['蹴上鐵道', '醍醐寺', '夜櫻', '二條城', '南禪寺', 'url', 'title']\n",
      "['夜櫻', '蹴上鐵道', '仁和寺', '黑門市場', '二条城', 'url', 'title']\n",
      "['夜櫻', '蹴上傾斜鐵道', '仁和寺', '龍安寺', '二条城', 'url', 'title']\n",
      "['蹴上鐵道', '醍醐寺', '夜櫻', '二条城', '平安神宮', 'url', 'title']\n",
      "['夜櫻', '二条城', '琵琶湖疏水', '蹴上傾斜鐵道', '高瀨川', 'url', 'title']\n",
      "['哲學大道', '夜櫻', '二条城', '平安神宮', '八阪神社', 'url', 'title']\n",
      "['龍安寺', '夢館', '夜櫻', '難波', '平野神社', 'url', 'title']\n",
      "['夜櫻', '鳥貴族', '蹴上鐵道', '醍醐寺', '圓山公園', 'url', 'title']\n",
      "['醍醐寺', '高瀨川', '蹴上鐵道', '夜櫻', '岡崎疏水', 'url', 'title']\n",
      "['醍醐寺', '夜櫻', '蹴上傾斜鐵道', '山科疏水', '上賀茂神社', 'url', 'title']\n",
      "['平野神舍', '蹴上傾斜鐵道', '夜櫻', '寧寧之道', '平安神宮', 'url', 'title']\n",
      "['夜櫻', 'Kyoto', '哲學之道', '銀閣寺', '心齋橋', 'url', 'title']\n",
      "['醍醐寺', '圓山公園', '夜櫻', '南禪寺', '祇園', 'url', 'title']\n",
      "['夜櫻', '北野天滿宮', '野宮神社', '道頓崛', '高台寺', 'url', 'title']\n",
      "['夜櫻', '嵐山', '平野神社', '東本願寺', '阿倍野', 'url', 'title']\n",
      "['高瀨川', '夜櫻', '京都拉麵小路', '圓山公園', '祗園', 'url', 'title']\n",
      "['夜櫻', '錦市場', '和服', '難波', '嵐山', 'url', 'title']\n",
      "['夜櫻', 'ZhaoYUHaoFacebook', 'Hao', 'Haosnote', '賞櫻行', 'url', 'title']\n",
      "['夜櫻', '岡本', '権太呂', '龍安寺', '法然院', 'url', 'title']\n",
      "['夜櫻', '蹴上鐵道', '圓山公園', '岡本', '寧寧之道', 'url', 'title']\n",
      "['山科疏水道', '三嶋亭本店', '夜櫻', 'Karasu', 'Porta', 'url', 'title']\n",
      "['夜櫻', '二条城', '仁和寺', '岡本和服', '新京極', 'url', 'title']\n",
      "['平野神社', '夜櫻', '哲學之道', '八阪神社', '地主神社', 'url', 'title']\n",
      "['夜櫻', '東本願寺', '京都府立植物園', '琵琶湖疏水', '六角堂', 'url', 'title']\n",
      "['夜櫻', '夢館', '振袖', '神泉苑', '西陣織會館', 'url', 'title']\n",
      "['夜櫻', '三年坂', '二年坂', '圓山公園', '八阪神社', 'url', 'title']\n",
      "['夜櫻', '琵琶湖疏水', '蹴上傾斜鐵道', '醍醐寺', '京都御苑', 'url', 'title']\n",
      "['夜櫻', '円山公園夜間點燈', '高瀨川', '青蓮院', '平野神社', 'url', 'title']\n",
      "['圓山公園', '八坂塔', '祗園', '夜櫻', '八阪神社', 'url', 'title']\n",
      "['夜櫻', '嵯峨野', '難波', '東福寺', '高瀨川', 'url', 'title']\n",
      "['岡本', '八坂塔', '夜櫻', '櫻花祭', '石塀小路', 'url', 'title']\n",
      "['Kyoto', '夜櫻', '木屋町通', '蹴上傾斜鐵道', '山科疏水', 'url', 'title']\n",
      "['夜櫻', '新京極', '夢館', '三十三間堂', '蹴上傾斜鐵道', 'url', 'title']\n",
      "['夜櫻', '南神苑', '天橋立', '蹴上鐵道', '醍醐寺', 'url', 'title']\n",
      "['夜櫻', '醍醐寺', '山科疏水', '六傳屋', '高瀨川', 'url', 'title']\n",
      "['美術館', '平野神社', '夜櫻', '西本願寺', '東福寺', 'url', 'title']\n",
      "['高台寺', '伏見稻荷大社', '夜櫻', '伏見稻荷', '清水寺', 'url', 'title']\n",
      "['夜櫻', '吹雪', '振袖', '伏見稻荷', '祇園', 'url', 'title']\n",
      "['夜櫻', '順正湯豆腐', '新京極', '高瀨川', '蹴上鐵道', 'url', 'title']\n",
      "['Yu', '夜櫻', '才', '祇園', 'Ppt', 'url', 'title']\n",
      "['夜櫻', '高瀨川', '岡崎疏水', '蹴上鐵道', '醍醐寺', 'url', 'title']\n",
      "['夜櫻', 'Ten', '南禪寺', '京都', '高山', 'url', 'title']\n",
      "['平野神社', '東寺', '夜櫻', '二條城', '京都', 'url', 'title']\n",
      "['東寺', '夜櫻', '二条城', '參拜', '不二', 'url', 'title']\n",
      "['夜櫻', '琵琶湖疏水', '東寺', '蹴上鐵道', '醍醐寺', 'url', 'title']\n",
      "['En', '夜櫻', '二條城', '北野天滿宮', '平安神宮', 'url', 'title']\n",
      "['夜櫻', '難波', '岡崎疏水', '十二段家', '本家章魚燒', 'url', 'title']\n",
      "['夜櫻', '平野神社', '毘沙門堂', '清涼寺', '建仁寺', 'url', 'title']\n",
      "['夜櫻', '清水舞台', '二條城', '二年坂', '三年坂', 'url', 'title']\n",
      "['夜櫻', '清水坂', '三重塔', '賀茂川', '岡崎疏水', 'url', 'title']\n",
      "['夜櫻', '大覺寺', '高瀨川', '上賀茂神社', '蹴上鐵道', 'url', 'title']\n",
      "['夜櫻', '清涼寺', '建仁寺', '平野神社', '毘沙門堂', 'url', 'title']\n",
      "['東寺', '夜櫻', '教王護國寺', '京都', '才', 'url', 'title']\n",
      "['二条城', '夜櫻', '夜楓', '賞楓', '才', 'url', 'title']\n",
      "['夜櫻', '二條城', '哲學之道', '嵐山', '夜楓', 'url', 'title']\n",
      "['高瀨川', '夜櫻', '櫻花祭', '安井金比羅宮', 'Miyako', 'url', 'title']\n",
      "['夜櫻', '仁和寺', '賀茂川', '東寺', '木屋町通', 'url', 'title']\n",
      "['醍醐寺', '伊藤久右衛門', '夜櫻', '宇治上神社', '平等院', 'url', 'title']\n"
     ]
    }
   ],
   "source": [
    "cluster = np.where(km.labels_ == 11)[0]    ## --> 夜櫻 醍醐寺\n",
    "for i in cluster:\n",
    "    print([i for i in atcKwList[i]])"
   ]
  },
  {
   "cell_type": "markdown",
   "metadata": {},
   "source": [
    "## 用PCA降維"
   ]
  },
  {
   "cell_type": "code",
   "execution_count": 41,
   "metadata": {},
   "outputs": [
    {
     "data": {
      "text/plain": [
       "(7323, 3278)"
      ]
     },
     "execution_count": 41,
     "metadata": {},
     "output_type": "execute_result"
    }
   ],
   "source": [
    "df.shape"
   ]
  },
  {
   "cell_type": "code",
   "execution_count": 42,
   "metadata": {
    "scrolled": false
   },
   "outputs": [
    {
     "data": {
      "text/plain": [
       "(7323, 389)"
      ]
     },
     "execution_count": 42,
     "metadata": {},
     "output_type": "execute_result"
    }
   ],
   "source": [
    "df_Reduc1.shape"
   ]
  },
  {
   "cell_type": "code",
   "execution_count": 43,
   "metadata": {
    "collapsed": true
   },
   "outputs": [],
   "source": [
    "# 用剛剛分出來的cluster給DataFrame貼上標籤\n",
    "\n",
    "# Cluster 0 景點、活動\n",
    "# Cluster 1 景點\n",
    "# Cluster 2 X\n",
    "# Cluster 3 X\n",
    "# Cluster 4 X\n",
    "# Cluster 5 活動\n",
    "# Cluster 6 X\n",
    "# Cluster 7 X\n",
    "# Cluster 8 X\n",
    "# Cluster 9 景點\n",
    "# Cluster 10 和服\n",
    "# Cluster 11 活動\n",
    "# Cluster 12 和服\n",
    "# Cluster 13 和服\n",
    "# Cluster 14 活動\n",
    "\n",
    "# 0: 22,\n",
    "# 1: 5798,\n",
    "# 2: 2,\n",
    "# 3: 1,\n",
    "# 4: 545,\n",
    "# 5: 13,\n",
    "# 6: 4,\n",
    "# 7: 1,\n",
    "# 8: 5,\n",
    "# 9: 64,\n",
    "# 10: 358,\n",
    "# 11: 98,\n",
    "# 12: 86,\n",
    "# 13: 79,\n",
    "# 14: 247\n",
    "cluster0 = np.where(km.labels_ == 0)[0]\n",
    "cluster1 = np.where(km.labels_ == 1)[0]\n",
    "cluster2 = np.where(km.labels_ == 2)[0]\n",
    "cluster3 = np.where(km.labels_ == 3)[0]\n",
    "cluster4 = np.where(km.labels_ == 4)[0]\n",
    "cluster5 = np.where(km.labels_ == 5)[0]\n",
    "cluster6 = np.where(km.labels_ == 6)[0]\n",
    "cluster7 = np.where(km.labels_ == 7)[0]\n",
    "cluster8 = np.where(km.labels_ == 8)[0]\n",
    "cluster9 = np.where(km.labels_ == 9)[0]\n",
    "cluster10 = np.where(km.labels_ == 10)[0]\n",
    "cluster11 = np.where(km.labels_ == 11)[0]\n",
    "cluster12 = np.where(km.labels_ == 12)[0]\n",
    "cluster13 = np.where(km.labels_ == 13)[0]\n",
    "cluster14 = np.where(km.labels_ == 14)[0]\n",
    "y = np.zeros(df_Reduc1.shape[0])"
   ]
  },
  {
   "cell_type": "code",
   "execution_count": 44,
   "metadata": {},
   "outputs": [
    {
     "data": {
      "text/plain": [
       "(7323,)"
      ]
     },
     "execution_count": 44,
     "metadata": {},
     "output_type": "execute_result"
    }
   ],
   "source": [
    "y.shape"
   ]
  },
  {
   "cell_type": "code",
   "execution_count": 45,
   "metadata": {
    "collapsed": true
   },
   "outputs": [],
   "source": [
    "#1\t2\t0\t0\t0\t3\t0\t0\t0\t2\t4\t3\t4\t4\t3\n",
    "\n",
    "y[[i for i in cluster0]] = 1\n",
    "y[[i for i in cluster1]] = 2\n",
    "y[[i for i in cluster2]] = 0\n",
    "y[[i for i in cluster3]] = 0\n",
    "y[[i for i in cluster4]] = 0\n",
    "y[[i for i in cluster5]] = 3\n",
    "y[[i for i in cluster6]] = 0\n",
    "y[[i for i in cluster7]] = 0\n",
    "y[[i for i in cluster8]] = 0\n",
    "y[[i for i in cluster9]] = 2\n",
    "y[[i for i in cluster10]] = 4\n",
    "y[[i for i in cluster11]] = 3\n",
    "y[[i for i in cluster12]] = 4\n",
    "y[[i for i in cluster13]] = 4\n",
    "y[[i for i in cluster14]] = 3"
   ]
  },
  {
   "cell_type": "code",
   "execution_count": 46,
   "metadata": {},
   "outputs": [
    {
     "data": {
      "text/plain": [
       "array([ 3.,  2.,  2., ...,  2.,  2.,  2.])"
      ]
     },
     "execution_count": 46,
     "metadata": {},
     "output_type": "execute_result"
    }
   ],
   "source": [
    "y"
   ]
  },
  {
   "cell_type": "code",
   "execution_count": 47,
   "metadata": {
    "scrolled": false
   },
   "outputs": [
    {
     "data": {
      "image/png": "[encoded data removed]",
      "text/plain": [
       "<matplotlib.figure.Figure at 0x181aa780>"
      ]
     },
     "metadata": {},
     "output_type": "display_data"
    }
   ],
   "source": [
    "#各群數量\n",
    "\n",
    "hist, bin_edges = np.histogram(y, bins = range(6))\n",
    "plt.bar(bin_edges[:-1], hist, width = 1)\n",
    "plt.show()"
   ]
  },
  {
   "cell_type": "code",
   "execution_count": 48,
   "metadata": {},
   "outputs": [
    {
     "data": {
      "text/plain": [
       "(7323, 389)"
      ]
     },
     "execution_count": 48,
     "metadata": {},
     "output_type": "execute_result"
    }
   ],
   "source": [
    "df_Reduc1.shape"
   ]
  },
  {
   "cell_type": "code",
   "execution_count": 49,
   "metadata": {},
   "outputs": [
    {
     "data": {
      "text/plain": [
       "(7323,)"
      ]
     },
     "execution_count": 49,
     "metadata": {},
     "output_type": "execute_result"
    }
   ],
   "source": [
    "y.shape"
   ]
  },
  {
   "cell_type": "markdown",
   "metadata": {},
   "source": [
    "## 加入column y"
   ]
  },
  {
   "cell_type": "code",
   "execution_count": 50,
   "metadata": {
    "collapsed": true
   },
   "outputs": [],
   "source": [
    "from sklearn.model_selection import train_test_split"
   ]
  },
  {
   "cell_type": "code",
   "execution_count": 51,
   "metadata": {
    "collapsed": true
   },
   "outputs": [],
   "source": [
    "df_Reduc1_y = df_Reduc1.assign(Cluster = y)"
   ]
  },
  {
   "cell_type": "code",
   "execution_count": 52,
   "metadata": {},
   "outputs": [
    {
     "data": {
      "text/plain": [
       "390"
      ]
     },
     "execution_count": 52,
     "metadata": {},
     "output_type": "execute_result"
    }
   ],
   "source": [
    "df_Reduc1_y.shape[1]"
   ]
  },
  {
   "cell_type": "code",
   "execution_count": 53,
   "metadata": {
    "collapsed": true
   },
   "outputs": [],
   "source": [
    "X_, y_ = df_Reduc1_y.iloc[:, 0:df_Reduc1_y.shape[1]-1].values, df_Reduc1_y.iloc[:, df_Reduc1_y.shape[1]-1].values"
   ]
  },
  {
   "cell_type": "code",
   "execution_count": 54,
   "metadata": {
    "collapsed": true
   },
   "outputs": [],
   "source": [
    "X_train, X_test, y_train, y_test = train_test_split(X_, y_, test_size=0.3, random_state=0)"
   ]
  },
  {
   "cell_type": "code",
   "execution_count": 55,
   "metadata": {},
   "outputs": [
    {
     "data": {
      "text/plain": [
       "(5126, 389)"
      ]
     },
     "execution_count": 55,
     "metadata": {},
     "output_type": "execute_result"
    }
   ],
   "source": [
    "X_train.shape"
   ]
  },
  {
   "cell_type": "code",
   "execution_count": 56,
   "metadata": {
    "collapsed": true
   },
   "outputs": [],
   "source": [
    "from sklearn.preprocessing import StandardScaler\n",
    "\n",
    "sc = StandardScaler()\n",
    "X_train_std = sc.fit_transform(X_train)\n",
    "X_test_std = sc.transform(X_test)"
   ]
  },
  {
   "cell_type": "code",
   "execution_count": 57,
   "metadata": {
    "scrolled": true
   },
   "outputs": [
    {
     "name": "stdout",
     "output_type": "stream",
     "text": [
      "\n",
      "Eigenvalues \n",
      "[ 2.9550618   2.75574945  2.64887077  2.53889631  2.4231441   2.38159372\n",
      "  2.31134565  2.29329819  2.24383878  2.19426981  2.15399169  2.12551633\n",
      "  2.08928145  2.06626149  2.05310499  2.03715431  1.99263264  1.95114706\n",
      "  1.93037299  1.92346979  0.07213107  0.12314597  0.13693925  0.16082565\n",
      "  1.87782598  0.17542493  1.86621721  1.8566118   1.84654231  1.82420815\n",
      "  1.817193    1.79225113  0.202452    0.2088669   0.22208274  0.25145679\n",
      "  0.25530247  0.2738507   0.27978951  1.75335912  0.3230378   0.33211471\n",
      "  1.72705379  1.71672102  1.70881264  1.68863348  1.67967419  1.67601824\n",
      "  1.65286753  1.64704501  1.63474233  1.61905697  1.61183258  1.58825372\n",
      "  1.56465218  1.56097769  1.55488257  1.54006981  1.54579276  1.529399\n",
      "  1.51967046  1.50477349  1.49913676  1.49693523  1.48431965  1.47754333\n",
      "  1.47557584  1.46253279  1.45304516  1.45557061  1.44334439  1.4388062\n",
      "  0.35109443  0.36005646  0.36636437  0.3708763   0.37405601  0.38005121\n",
      "  0.38365336  0.38890137  0.391226    0.39508374  0.39827449  0.40455229\n",
      "  0.40903182  0.41486175  0.42752748  0.42126613  0.42402614  0.40603795\n",
      "  1.4329283   1.42886474  1.42429407  1.41445477  1.41028442  1.4026316\n",
      "  1.39257032  1.38937602  1.37936426  1.37386605  1.37232496  0.43483635\n",
      "  0.4367381   0.43916603  0.44563611  0.45008312  0.4523289   0.45530141\n",
      "  0.50337851  0.49498137  0.49306568  0.48818939  0.48992456  0.47952186\n",
      "  0.47654281  0.4589844   0.46506171  0.4682136   0.4709149   1.3547313\n",
      "  1.36226977  1.36484624  0.50939553  0.51125336  1.34983873  1.34008686\n",
      "  1.34622339  0.5169695   0.51936403  0.52463667  0.52311249  1.32705709\n",
      "  1.32139233  1.31569318  1.31874781  0.54161887  0.53628932  0.53206715\n",
      "  0.53121949  1.30817888  1.30973973  1.29493014  1.28988601  1.28514866\n",
      "  1.28670565  0.54556176  0.5479419   0.56102916  0.55506309  0.55681422\n",
      "  1.27776781  1.27534036  1.27291147  1.26576101  1.25995845  1.25559915\n",
      "  0.56461553  0.56652677  0.56822633  0.57196964  0.57603688  0.57760532\n",
      "  0.58332355  0.58695107  1.24926148  1.24086181  1.24315121  1.23608166\n",
      "  1.2306588   1.22511363  0.5898161   0.58219108  0.59398239  0.59650657\n",
      "  0.59785537  0.60350487  0.60658743  0.61045876  0.61891057  0.61322776\n",
      "  0.61472533  0.62268091  1.22016506  1.2164026   1.21257339  1.2111171\n",
      "  1.20564717  1.2009707   1.18738075  1.19610302  1.19378543  0.62779241\n",
      "  0.63188808  0.6382314   0.64008163  0.6775584   0.67560083  0.6452395\n",
      "  0.64476066  0.67001874  0.65105248  0.66511647  0.65363531  0.65603166\n",
      "  0.66198057  0.65979667  1.17277646  1.18328876  1.17939391  1.18194205\n",
      "  0.6800395   0.6879622   1.16726313  1.16312981  1.16066473  1.15744478\n",
      "  1.15442457  0.6848589   0.70398552  0.69447717  0.69849569  0.70056844\n",
      "  0.69048637  0.69097236  0.71345362  0.72046877  0.71609626  0.71695435\n",
      "  1.15251839  1.1480797   1.14391603  1.13925925  1.13711731  1.13379136\n",
      "  1.13116521  1.12701144  1.12546658  1.1225784   1.11748352  1.1170023\n",
      "  0.72393489  0.72477301  0.73176508  0.76563841  0.76251472  0.76021426\n",
      "  0.75819585  0.75779189  0.75342051  0.74854985  0.74599865  0.73722705\n",
      "  0.73928069  0.74035769  0.74075779  1.11507281  1.11126734  0.77384852\n",
      "  0.77171155  0.7843555   0.77955434  0.77909331  0.79104014  1.10748306\n",
      "  1.10560463  1.10269202  1.09920136  1.09986906  1.09331209  1.08897321\n",
      "  1.08660254  1.08267333  0.78789922  0.79525933  0.79756942  0.80003672\n",
      "  0.80167112  0.80499216  0.80681619  0.81578596  0.81152441  0.82906578\n",
      "  0.82138974  0.82304133  1.0810779   1.07758347  1.07344498  1.07185292\n",
      "  1.06852145  1.06484417  1.06610377  0.82521035  0.8277261   0.83565348\n",
      "  0.83767716  0.84458523  0.84587392  0.86986787  0.86721356  0.84816759\n",
      "  0.86312373  0.8605709   0.85673646  0.85143156  0.85391829  0.81020104\n",
      "  1.06079145  1.05731502  1.05391546  1.05414967  0.89144119  0.87233728\n",
      "  0.87548111  0.87827293  0.87967014  1.04960351  1.04824262  1.04584048\n",
      "  0.9080788   0.90613737  0.90173495  0.89887716  0.89389138  0.88939131\n",
      "  0.88393691  0.88566703  1.04274104  1.03904012  1.03728167  0.88104144\n",
      "  0.93998133  0.93767027  0.91167485  0.91368509  0.92962282  0.92771868\n",
      "  0.9229475   0.92044007  0.91716048  1.0359782   1.03295523  1.02978248\n",
      "  1.03156049  1.02404639  1.02609128  1.02200701  0.94781582  0.96649678\n",
      "  0.97041527  0.97130253  0.95084216  0.92534265  0.9346958   0.95286937\n",
      "  0.93518584  0.95575994  0.91867239  1.02779986  0.95906819  0.95773236\n",
      "  0.95996662  1.01891846  1.02569839  0.97903586  0.97540445  1.01708054\n",
      "  1.0147568   1.01331068  0.98096539  0.98419098  0.9824424   0.98658887\n",
      "  0.98897393  1.01123602  0.99222463  0.99544447  1.00704453  0.99921357\n",
      "  1.00326697  1.00406808  1.00054589  1.00523439  1.00600931  0.95730849\n",
      "  1.01027253  0.99335297  0.99011974  0.99447415  0.9947519 ]\n"
     ]
    }
   ],
   "source": [
    "import numpy as np\n",
    "cov_mat = np.cov(X_train_std.T)\n",
    "eigen_vals, eigen_vecs = np.linalg.eig(cov_mat)\n",
    "\n",
    "print('\\nEigenvalues \\n%s' % eigen_vals)"
   ]
  },
  {
   "cell_type": "code",
   "execution_count": 58,
   "metadata": {},
   "outputs": [
    {
     "data": {
      "text/plain": [
       "389"
      ]
     },
     "execution_count": 58,
     "metadata": {},
     "output_type": "execute_result"
    }
   ],
   "source": [
    "len(eigen_vals)"
   ]
  },
  {
   "cell_type": "code",
   "execution_count": 59,
   "metadata": {},
   "outputs": [
    {
     "data": {
      "text/plain": [
       "([0.0075950779262209354,\n",
       "  0.0070828068170255129,\n",
       "  0.0068081080197705838,\n",
       "  0.0065254524655445406,\n",
       "  0.0062279470037381922,\n",
       "  0.0061211545257382066,\n",
       "  0.005940603454581494,\n",
       "  0.0058942180124217074,\n",
       "  0.0057670978058083616,\n",
       "  0.0056396960072213776,\n",
       "  0.0055361734748004664,\n",
       "  0.0054629863035844444,\n",
       "  0.005369855680868482,\n",
       "  0.0053106899703076783,\n",
       "  0.0052768752343498714,\n",
       "  0.0052358789098738163,\n",
       "  0.0051214496407927645,\n",
       "  0.0050148237058028526,\n",
       "  0.0049614303354821865,\n",
       "  0.0049436877940511603,\n",
       "  0.0048263744211261049,\n",
       "  0.0047965376367415415,\n",
       "  0.0047718498736694136,\n",
       "  0.0047459693481347398,\n",
       "  0.0046885662555871252,\n",
       "  0.0046705359886439913,\n",
       "  0.0046064305604211859,\n",
       "  0.0045064706138652063,\n",
       "  0.0044388608570090481,\n",
       "  0.0044123036413843868,\n",
       "  0.0043919775706465656,\n",
       "  0.0043401132508839001,\n",
       "  0.0043170861622238077,\n",
       "  0.0043076896447131275,\n",
       "  0.004248187876933195,\n",
       "  0.0042332228688551016,\n",
       "  0.0042016026162984919,\n",
       "  0.0041612882111004851,\n",
       "  0.0041427201587841593,\n",
       "  0.0040821179290141387,\n",
       "  0.0040214574313515326,\n",
       "  0.0040120132910160334,\n",
       "  0.0039963476636822905,\n",
       "  0.0039729851005514925,\n",
       "  0.0039582760139028556,\n",
       "  0.0039308499704697308,\n",
       "  0.0039058457390874872,\n",
       "  0.0038675576707127286,\n",
       "  0.0038530701749326206,\n",
       "  0.0038474118316234687,\n",
       "  0.0038149873718075788,\n",
       "  0.0037975709161187951,\n",
       "  0.0037925140962645982,\n",
       "  0.0037589909443515633,\n",
       "  0.00374109678669623,\n",
       "  0.0037346059064534576,\n",
       "  0.0037096730386900621,\n",
       "  0.0036980090328007321,\n",
       "  0.0036829016918523082,\n",
       "  0.0036724575537848874,\n",
       "  0.0036607100476410146,\n",
       "  0.0036354211720548914,\n",
       "  0.0036247025483433512,\n",
       "  0.0036050333285586609,\n",
       "  0.0035791739186145023,\n",
       "  0.0035709639496506059,\n",
       "  0.0035452317914617224,\n",
       "  0.0035311003356227524,\n",
       "  0.0035271394284026266,\n",
       "  0.0035079176992625573,\n",
       "  0.0035012956552135906,\n",
       "  0.0034819203467081491,\n",
       "  0.0034693455045610904,\n",
       "  0.0034600533719686042,\n",
       "  0.0034442813167938,\n",
       "  0.0034107922994030542,\n",
       "  0.0033962327648551435,\n",
       "  0.0033894358363844466,\n",
       "  0.0033815848634579483,\n",
       "  0.0033662833528589511,\n",
       "  0.0033622716682474799,\n",
       "  0.0033282198484648798,\n",
       "  0.003315255457872473,\n",
       "  0.00330708131599793,\n",
       "  0.0033030795671603937,\n",
       "  0.0032841093557629411,\n",
       "  0.0032778703481722467,\n",
       "  0.0032716276235489066,\n",
       "  0.0032532495762620448,\n",
       "  0.0032383358593786409,\n",
       "  0.0032271316235197266,\n",
       "  0.0032108425868176255,\n",
       "  0.0031951380183397552,\n",
       "  0.003189253836402727,\n",
       "  0.0031769679158082679,\n",
       "  0.003163030117079271,\n",
       "  0.0031487779583145464,\n",
       "  0.0031360591952686394,\n",
       "  0.0031263889557250966,\n",
       "  0.0031165471355425875,\n",
       "  0.0031128041873761851,\n",
       "  0.003098745414868632,\n",
       "  0.0030867259815341298,\n",
       "  0.0030742151022106886,\n",
       "  0.0030682584531002686,\n",
       "  0.0030517972024226296,\n",
       "  0.0030412799982224704,\n",
       "  0.0030378186876620422,\n",
       "  0.0030312694732570213,\n",
       "  0.0030142613555897211,\n",
       "  0.0030000910454218328,\n",
       "  0.0029894676225370627,\n",
       "  0.0029831318893191842,\n",
       "  0.0029748559868387841,\n",
       "  0.0029670934609478004,\n",
       "  0.0029621942129700422,\n",
       "  0.0029507859442254648,\n",
       "  0.0029400844889895133,\n",
       "  0.0029281156685995223,\n",
       "  0.0029226104854763141,\n",
       "  0.0029140621535272038,\n",
       "  0.0029073124384406917,\n",
       "  0.00289663645897831,\n",
       "  0.0028926658478445689,\n",
       "  0.0028852426922004902,\n",
       "  0.0028721478589557206,\n",
       "  0.002870911040799954,\n",
       "  0.0028659518662850886,\n",
       "  0.0028561710850632696,\n",
       "  0.0028464447491958153,\n",
       "  0.0028416168169084662,\n",
       "  0.0028341308432372303,\n",
       "  0.0028268752965976813,\n",
       "  0.0028251591920375298,\n",
       "  0.0028100226344874549,\n",
       "  0.0027988708760023724,\n",
       "  0.0027927778032890756,\n",
       "  0.0027826789579913328,\n",
       "  0.0027785784018885913,\n",
       "  0.0027695970497009161,\n",
       "  0.0027589603251588725,\n",
       "  0.0027548684357135336,\n",
       "  0.0027463058992420533,\n",
       "  0.0027400920091720216,\n",
       "  0.0027368545804613478,\n",
       "  0.0027264383093653878,\n",
       "  0.0027175032315014214,\n",
       "  0.0027093676613150937,\n",
       "  0.0027087656948879542,\n",
       "  0.0026976831529755465,\n",
       "  0.0026941853990862736,\n",
       "  0.0026880114538123368,\n",
       "  0.0026800452887581583,\n",
       "  0.0026705332189722263,\n",
       "  0.0026660136568364638,\n",
       "  0.0026626634913817651,\n",
       "  0.0026548938785187085,\n",
       "  0.002651309122934702,\n",
       "  0.002646739307732984,\n",
       "  0.0026416435889659315,\n",
       "  0.0026372522071176621,\n",
       "  0.0026362423907452903,\n",
       "  0.002631996446824071,\n",
       "  0.0026267548286964975,\n",
       "  0.0026188166743949686,\n",
       "  0.0026140928557785259,\n",
       "  0.0026081203948279462,\n",
       "  0.0026044035962516955,\n",
       "  0.002599071314588326,\n",
       "  0.0025965949641082696,\n",
       "  0.0025882983964262427,\n",
       "  0.0025856376768154422,\n",
       "  0.0025836459647980937,\n",
       "  0.0025806483419806309,\n",
       "  0.002578589338519819,\n",
       "  0.0025715956357878302,\n",
       "  0.0025681713180790797,\n",
       "  0.0025584839992622804,\n",
       "  0.0025567039585364573,\n",
       "  0.0025559900853723955,\n",
       "  0.002553108445973183,\n",
       "  0.0025502083917829091,\n",
       "  0.0025447984164248204,\n",
       "  0.0025418534696206524,\n",
       "  0.0025357234034580167,\n",
       "  0.0025295603645739398,\n",
       "  0.0025250661706825608,\n",
       "  0.002521269975991538,\n",
       "  0.0025163106988428056,\n",
       "  0.0025069772940541353,\n",
       "  0.0024964345605923031,\n",
       "  0.0024941541309142241,\n",
       "  0.0024840828633843808,\n",
       "  0.0024672990954706909,\n",
       "  0.0024649899587766495,\n",
       "  0.0024615566172250833,\n",
       "  0.0024604671796562725,\n",
       "  0.0024564871166737759,\n",
       "  0.0024490577922315262,\n",
       "  0.0024438474758641695,\n",
       "  0.0024360691855528699,\n",
       "  0.0024159330362612291,\n",
       "  0.0024099931850610659,\n",
       "  0.0024036077129326277,\n",
       "  0.0024023482152860658,\n",
       "  0.0023893096762160016,\n",
       "  0.0023844156830169663,\n",
       "  0.0023783088250181263,\n",
       "  0.0023721528279832304,\n",
       "  0.0023657082449561788,\n",
       "  0.0023611649712285817,\n",
       "  0.0023572790788554607,\n",
       "  0.0023483466379938161,\n",
       "  0.00234317993284138,\n",
       "  0.0023339374067254462,\n",
       "  0.0023289475529894199,\n",
       "  0.002317632475072026,\n",
       "  0.0023102874182984777,\n",
       "  0.0022974729992664275,\n",
       "  0.0022911755397990543,\n",
       "  0.0022859069520617722,\n",
       "  0.002276334830483217,\n",
       "  0.0022718880930122469,\n",
       "  0.0022644461705166774,\n",
       "  0.0022609216782496595,\n",
       "  0.0022573305644876082,\n",
       "  0.002250155066665547,\n",
       "  0.002242074805890414,\n",
       "  0.0022357279585270623,\n",
       "  0.0022289058733456091,\n",
       "  0.0022183942091108739,\n",
       "  0.0022118329453380005,\n",
       "  0.0022019777025301256,\n",
       "  0.0021947344536234537,\n",
       "  0.0021883430718004117,\n",
       "  0.0021799540393950753,\n",
       "  0.0021740588745922411,\n",
       "  0.0021707466960243483,\n",
       "  0.0021529916252831958,\n",
       "  0.0021477903673389012,\n",
       "  0.0021308587299726724,\n",
       "  0.0021274154790788145,\n",
       "  0.0021209495350316436,\n",
       "  0.0021153747182415072,\n",
       "  0.002111129829480697,\n",
       "  0.002096727033246541,\n",
       "  0.0020857740276700133,\n",
       "  0.0020823727188910078,\n",
       "  0.0020736729917650433,\n",
       "  0.0020689848707918209,\n",
       "  0.0020604491754077497,\n",
       "  0.0020562484445010272,\n",
       "  0.0020499069993390471,\n",
       "  0.0020439696332543102,\n",
       "  0.0020331255070070182,\n",
       "  0.0020250527386089859,\n",
       "  0.0020159446796389558,\n",
       "  0.0020036047969372271,\n",
       "  0.002002419845412128,\n",
       "  0.0019889397391665152,\n",
       "  0.0019834473130184902,\n",
       "  0.0019678381632936034,\n",
       "  0.0019598096700329513,\n",
       "  0.0019538970638394129,\n",
       "  0.0019487093505446071,\n",
       "  0.0019476710986190812,\n",
       "  0.0019364358064642578,\n",
       "  0.001923917279949871,\n",
       "  0.0019173601884000515,\n",
       "  0.0019038901918194317,\n",
       "  0.0019028618499397089,\n",
       "  0.001900093750112447,\n",
       "  0.0018948154913093511,\n",
       "  0.0018807771840559661,\n",
       "  0.0018628062203080076,\n",
       "  0.0018606520954844294,\n",
       "  0.0018517434907565182,\n",
       "  0.0018427107642229965,\n",
       "  0.0018405052872413458,\n",
       "  0.0018337131944947079,\n",
       "  0.0018093783620521976,\n",
       "  0.0018005958077425147,\n",
       "  0.0017952684550539028,\n",
       "  0.0017849400732736285,\n",
       "  0.0017759320352264149,\n",
       "  0.0017746829527524762,\n",
       "  0.0017681953405540506,\n",
       "  0.0017602192721033246,\n",
       "  0.0017478324837559248,\n",
       "  0.0017414555865436722,\n",
       "  0.0017364242496557937,\n",
       "  0.0017220772064013858,\n",
       "  0.0017094774076639961,\n",
       "  0.0017014175564510007,\n",
       "  0.0016958045012159589,\n",
       "  0.0016861277185282241,\n",
       "  0.0016799686197118587,\n",
       "  0.0016733302660308796,\n",
       "  0.0016583897782075935,\n",
       "  0.0016571590784701029,\n",
       "  0.0016451330535469182,\n",
       "  0.001640377612933272,\n",
       "  0.0016240740488049016,\n",
       "  0.0016135473900992599,\n",
       "  0.0016004098579075312,\n",
       "  0.0015907193499050127,\n",
       "  0.0015799624845692019,\n",
       "  0.0015761134543947467,\n",
       "  0.0015689965911528569,\n",
       "  0.0015590465253867885,\n",
       "  0.0015511237446453399,\n",
       "  0.0015366034383341996,\n",
       "  0.0015331367687337143,\n",
       "  0.0015266491378641736,\n",
       "  0.0015159409739510868,\n",
       "  0.0015085772875063515,\n",
       "  0.0014992538567335236,\n",
       "  0.0014963431881004621,\n",
       "  0.0014845569006225882,\n",
       "  0.0014805257292088601,\n",
       "  0.0014700721380803575,\n",
       "  0.0014604510962143834,\n",
       "  0.0014560829121009649,\n",
       "  0.0014511706600355578,\n",
       "  0.0014419529757913152,\n",
       "  0.0014311197692693399,\n",
       "  0.0014266190413469429,\n",
       "  0.0014083162207977097,\n",
       "  0.0014021987817122523,\n",
       "  0.0013920648033083982,\n",
       "  0.0013783668256405353,\n",
       "  0.0013675150348905674,\n",
       "  0.0013653363905865681,\n",
       "  0.0013484172753514326,\n",
       "  0.001344499851745029,\n",
       "  0.0013348655918882823,\n",
       "  0.0013287111689687697,\n",
       "  0.0013140195941819996,\n",
       "  0.0013092446270913016,\n",
       "  0.0012937797208025777,\n",
       "  0.0012721974404566933,\n",
       "  0.0012672737450198015,\n",
       "  0.0012592004667036283,\n",
       "  0.0012547407419215863,\n",
       "  0.0012324635229339176,\n",
       "  0.0012248067894747379,\n",
       "  0.0012103419920862085,\n",
       "  0.0012033991333049866,\n",
       "  0.0011952981533220122,\n",
       "  0.0011796782902302992,\n",
       "  0.0011702123209072172,\n",
       "  0.0011625723782812973,\n",
       "  0.001156800289630236,\n",
       "  0.0011453706336816991,\n",
       "  0.0011287412753623587,\n",
       "  0.0011225010144176961,\n",
       "  0.0011176131735304727,\n",
       "  0.0010988279710620601,\n",
       "  0.0010898288362961746,\n",
       "  0.0010827350765672333,\n",
       "  0.0010662745854343276,\n",
       "  0.0010512905565996545,\n",
       "  0.0010435957195575774,\n",
       "  0.0010397772977840454,\n",
       "  0.0010236421499704117,\n",
       "  0.0010154412955001146,\n",
       "  0.0010055261707025524,\n",
       "  0.00099955143040131832,\n",
       "  0.00098606302267958057,\n",
       "  0.00097680481419359271,\n",
       "  0.00096139598034474362,\n",
       "  0.00095322352417868961,\n",
       "  0.00094162697794699735,\n",
       "  0.00092541444883687527,\n",
       "  0.00090238030506771766,\n",
       "  0.00085359877086731498,\n",
       "  0.00083026937053167925,\n",
       "  0.00071911293055152402,\n",
       "  0.00070384902823548555,\n",
       "  0.00065617652599102619,\n",
       "  0.00064629237229340847,\n",
       "  0.00057079541306654985,\n",
       "  0.00053682816718573091,\n",
       "  0.0005203406401703321,\n",
       "  0.0004508758471580754,\n",
       "  0.00041335288479440037,\n",
       "  0.000351960242867417,\n",
       "  0.00031650885606710198,\n",
       "  0.0001853907306767639],\n",
       " array([ 0.00759508,  0.01467788,  0.02148599,  0.02801145,  0.03423939,\n",
       "         0.04036055,  0.04630115,  0.05219537,  0.05796247,  0.06360216,\n",
       "         0.06913834,  0.07460132,  0.07997118,  0.08528187,  0.09055874,\n",
       "         0.09579462,  0.10091607,  0.10593089,  0.11089233,  0.11583601,\n",
       "         0.12066239,  0.12545893,  0.13023078,  0.13497674,  0.13966531,\n",
       "         0.14433585,  0.14894228,  0.15344875,  0.15788761,  0.16229991,\n",
       "         0.16669189,  0.171032  ,  0.17534909,  0.17965678,  0.18390497,\n",
       "         0.18813819,  0.19233979,  0.19650108,  0.2006438 ,  0.20472592,\n",
       "         0.20874738,  0.21275939,  0.21675574,  0.22072872,  0.224687  ,\n",
       "         0.22861785,  0.23252369,  0.23639125,  0.24024432,  0.24409173,\n",
       "         0.24790672,  0.25170429,  0.25549681,  0.2592558 ,  0.26299689,\n",
       "         0.2667315 ,  0.27044117,  0.27413918,  0.27782208,  0.28149454,\n",
       "         0.28515525,  0.28879067,  0.29241537,  0.29602041,  0.29959958,\n",
       "         0.30317055,  0.30671578,  0.31024688,  0.31377402,  0.31728194,\n",
       "         0.32078323,  0.32426515,  0.3277345 ,  0.33119455,  0.33463883,\n",
       "         0.33804962,  0.34144586,  0.34483529,  0.34821688,  0.35158316,\n",
       "         0.35494543,  0.35827365,  0.36158891,  0.36489599,  0.36819907,\n",
       "         0.37148318,  0.37476105,  0.37803268,  0.38128593,  0.38452426,\n",
       "         0.38775139,  0.39096224,  0.39415737,  0.39734663,  0.40052359,\n",
       "         0.40368663,  0.4068354 ,  0.40997146,  0.41309785,  0.4162144 ,\n",
       "         0.4193272 ,  0.42242595,  0.42551267,  0.42858689,  0.43165515,\n",
       "         0.43470694,  0.43774822,  0.44078604,  0.44381731,  0.44683157,\n",
       "         0.44983167,  0.45282113,  0.45580426,  0.45877912,  0.46174621,\n",
       "         0.46470841,  0.46765919,  0.47059928,  0.47352739,  0.47645   ,\n",
       "         0.47936407,  0.48227138,  0.48516802,  0.48806068,  0.49094592,\n",
       "         0.49381807,  0.49668898,  0.49955494,  0.50241111,  0.50525755,\n",
       "         0.50809917,  0.5109333 ,  0.51376017,  0.51658533,  0.51939536,\n",
       "         0.52219423,  0.524987  ,  0.52776968,  0.53054826,  0.53331786,\n",
       "         0.53607682,  0.53883169,  0.54157799,  0.54431809,  0.54705494,\n",
       "         0.54978138,  0.55249888,  0.55520825,  0.55791702,  0.5606147 ,\n",
       "         0.56330888,  0.5659969 ,  0.56867694,  0.57134747,  0.57401349,\n",
       "         0.57667615,  0.57933104,  0.58198235,  0.58462909,  0.58727074,\n",
       "         0.58990799,  0.59254423,  0.59517623,  0.59780298,  0.6004218 ,\n",
       "         0.60303589,  0.60564401,  0.60824842,  0.61084749,  0.61344408,\n",
       "         0.61603238,  0.61861802,  0.62120166,  0.62378231,  0.6263609 ,\n",
       "         0.6289325 ,  0.63150067,  0.63405915,  0.63661586,  0.63917185,\n",
       "         0.64172496,  0.64427516,  0.64681996,  0.64936182,  0.65189754,\n",
       "         0.6544271 ,  0.65695217,  0.65947344,  0.66198975,  0.66449672,\n",
       "         0.66699316,  0.66948731,  0.6719714 ,  0.67443869,  0.67690368,\n",
       "         0.67936524,  0.68182571,  0.6842822 ,  0.68673125,  0.6891751 ,\n",
       "         0.69161117,  0.6940271 ,  0.6964371 ,  0.6988407 ,  0.70124305,\n",
       "         0.70363236,  0.70601678,  0.70839509,  0.71076724,  0.71313295,\n",
       "         0.71549411,  0.71785139,  0.72019974,  0.72254292,  0.72487686,\n",
       "         0.7272058 ,  0.72952344,  0.73183372,  0.7341312 ,  0.73642237,\n",
       "         0.73870828,  0.74098461,  0.7432565 ,  0.74552095,  0.74778187,\n",
       "         0.7500392 ,  0.75228935,  0.75453143,  0.75676716,  0.75899606,\n",
       "         0.76121446,  0.76342629,  0.76562827,  0.767823  ,  0.77001135,\n",
       "         0.7721913 ,  0.77436536,  0.77653611,  0.7786891 ,  0.78083689,\n",
       "         0.78296775,  0.78509516,  0.78721611,  0.78933149,  0.79144262,\n",
       "         0.79353934,  0.79562512,  0.79770749,  0.79978116,  0.80185015,\n",
       "         0.8039106 ,  0.80596684,  0.80801675,  0.81006072,  0.81209385,\n",
       "         0.8141189 ,  0.81613484,  0.81813845,  0.82014087,  0.82212981,\n",
       "         0.82411326,  0.82608109,  0.8280409 ,  0.8299948 ,  0.83194351,\n",
       "         0.83389118,  0.83582762,  0.83775153,  0.83966889,  0.84157278,\n",
       "         0.84347565,  0.84537574,  0.84727056,  0.84915133,  0.85101414,\n",
       "         0.85287479,  0.85472653,  0.85656925,  0.85840975,  0.86024346,\n",
       "         0.86205284,  0.86385344,  0.86564871,  0.86743365,  0.86920958,\n",
       "         0.87098426,  0.87275246,  0.87451268,  0.87626051,  0.87800196,\n",
       "         0.87973839,  0.88146047,  0.88316994,  0.88487136,  0.88656717,\n",
       "         0.88825329,  0.88993326,  0.89160659,  0.89326498,  0.89492214,\n",
       "         0.89656727,  0.89820765,  0.89983173,  0.90144527,  0.90304568,\n",
       "         0.9046364 ,  0.90621636,  0.90779248,  0.90936147,  0.91092052,\n",
       "         0.91247164,  0.91400825,  0.91554139,  0.91706803,  0.91858398,\n",
       "         0.92009255,  0.92159181,  0.92308815,  0.92457271,  0.92605323,\n",
       "         0.9275233 ,  0.92898376,  0.93043984,  0.93189101,  0.93333296,\n",
       "         0.93476408,  0.9361907 ,  0.93759902,  0.93900122,  0.94039328,\n",
       "         0.94177165,  0.94313916,  0.9445045 ,  0.94585292,  0.94719742,\n",
       "         0.94853228,  0.94986099,  0.95117501,  0.95248426,  0.95377804,\n",
       "         0.95505023,  0.95631751,  0.95757671,  0.95883145,  0.96006391,\n",
       "         0.96128872,  0.96249906,  0.96370246,  0.96489776,  0.96607744,\n",
       "         0.96724765,  0.96841022,  0.96956702,  0.97071239,  0.97184113,\n",
       "         0.97296363,  0.97408125,  0.97518008,  0.9762699 ,  0.97735264,\n",
       "         0.97841891,  0.97947021,  0.9805138 ,  0.98155358,  0.98257722,\n",
       "         0.98359266,  0.98459819,  0.98559774,  0.9865838 ,  0.98756061,\n",
       "         0.988522  ,  0.98947523,  0.99041685,  0.99134227,  0.99224465,\n",
       "         0.99309825,  0.99392852,  0.99464763,  0.99535148,  0.99600765,\n",
       "         0.99665395,  0.99722474,  0.99776157,  0.99828191,  0.99873279,\n",
       "         0.99914614,  0.9994981 ,  0.99981461,  1.        ]))"
      ]
     },
     "execution_count": 59,
     "metadata": {},
     "output_type": "execute_result"
    }
   ],
   "source": [
    "tot = sum(eigen_vals)\n",
    "# 將特徵值排序  並計算百分比\n",
    "var_exp = [(i / tot) for i in sorted(eigen_vals, reverse=True)]\n",
    "# 加總\n",
    "cum_var_exp = np.cumsum(var_exp)\n",
    "\n",
    "var_exp ,cum_var_exp"
   ]
  },
  {
   "cell_type": "code",
   "execution_count": 60,
   "metadata": {
    "scrolled": false
   },
   "outputs": [
    {
     "data": {
      "image/png": "[encoded data removed]",
      "text/plain": [
       "<matplotlib.figure.Figure at 0x17b209b0>"
      ]
     },
     "metadata": {},
     "output_type": "display_data"
    }
   ],
   "source": [
    "import matplotlib.pyplot as plt\n",
    "\n",
    "\n",
    "plt.bar(range(1, len(eigen_vals)+1), var_exp, alpha=0.5, align='center',\n",
    "        label='individual explained variance')\n",
    "plt.step(range(1, len(eigen_vals)+1), cum_var_exp, where='mid',\n",
    "         label='cumulative explained variance')\n",
    "plt.ylabel('Explained variance ratio')\n",
    "plt.xlabel('Principal components')\n",
    "plt.legend(loc='best')\n",
    "plt.tight_layout()\n",
    "\n",
    "plt.show()"
   ]
  },
  {
   "cell_type": "code",
   "execution_count": 61,
   "metadata": {
    "collapsed": true
   },
   "outputs": [],
   "source": [
    "# Make a list of (eigenvalue, eigenvector) tuples\n",
    "eigen_pairs = [(np.abs(eigen_vals[i]), eigen_vecs[:, i])\n",
    "               for i in range(len(eigen_vals))]\n",
    "\n",
    "# Sort the (eigenvalue, eigenvector) tuples from high to low\n",
    "\n",
    "eigen_pairs.sort(reverse=True)\n"
   ]
  },
  {
   "cell_type": "code",
   "execution_count": 62,
   "metadata": {
    "scrolled": true
   },
   "outputs": [
    {
     "name": "stdout",
     "output_type": "stream",
     "text": [
      "Matrix W:\n",
      " [[ -7.09841390e-03  -1.30639649e-03]\n",
      " [  2.53796153e-02   5.95519906e-03]\n",
      " [  8.91002930e-02   1.59937304e-03]\n",
      " [ -4.03680990e-03   3.40265746e-03]\n",
      " [ -7.28621688e-03   1.39838072e-03]\n",
      " [  6.69530577e-02   1.13501918e-02]\n",
      " [  5.50241550e-03   2.44986500e-03]\n",
      " [ -2.69267099e-03  -8.51313278e-04]\n",
      " [ -3.03117306e-03   2.35786494e-04]\n",
      " [ -7.67530043e-03   5.65304091e-04]\n",
      " [  2.05053345e-02  -7.09217956e-03]\n",
      " [  3.38466830e-02  -2.41296782e-02]\n",
      " [ -4.87027446e-03  -1.03384266e-02]\n",
      " [  1.40581094e-01  -1.67310820e-03]\n",
      " [ -3.62596727e-02   1.04109235e-02]\n",
      " [  4.77356584e-03   3.87259496e-03]\n",
      " [  1.01928755e-02   8.79269825e-03]\n",
      " [  1.91611109e-02   1.41242129e-03]\n",
      " [ -4.99008607e-03   4.12127793e-03]\n",
      " [ -1.14674997e-02   6.60077381e-03]\n",
      " [  4.22194618e-03  -4.29701911e-03]\n",
      " [ -7.78891857e-03   4.33217169e-03]\n",
      " [ -1.05197090e-02   2.67670690e-03]\n",
      " [ -3.16080130e-04  -2.59811371e-03]\n",
      " [ -1.52362474e-03  -3.36537588e-04]\n",
      " [ -1.82450668e-03  -2.37457796e-03]\n",
      " [ -1.81919179e-02  -2.24352707e-03]\n",
      " [ -3.79269732e-02   1.21955162e-02]\n",
      " [  1.62252170e-01  -1.28266602e-01]\n",
      " [ -3.04862924e-03  -3.96750694e-06]\n",
      " [ -6.14203472e-03  -1.68040921e-04]\n",
      " [  8.18941794e-03  -3.05735195e-02]\n",
      " [ -2.62688706e-02   2.72580375e-03]\n",
      " [  1.01796474e-01  -4.69854844e-03]\n",
      " [ -9.24153009e-03   1.71256950e-03]\n",
      " [ -1.79473526e-03  -3.28777913e-02]\n",
      " [ -1.23204352e-02   3.48041621e-03]\n",
      " [ -2.35011102e-03  -3.63122097e-03]\n",
      " [ -1.36216536e-03   2.27599332e-04]\n",
      " [  4.15816402e-01   2.08449666e-01]\n",
      " [ -2.78248109e-02   8.12801365e-03]\n",
      " [ -1.68246071e-02   5.56152944e-03]\n",
      " [  8.29600824e-04  -6.55294583e-03]\n",
      " [ -4.54790444e-03   2.68579507e-03]\n",
      " [ -4.03026567e-03  -2.01244748e-02]\n",
      " [ -6.98488996e-03  -8.83418507e-03]\n",
      " [ -7.18398826e-03   3.55021866e-03]\n",
      " [  1.51572117e-01  -4.35237384e-01]\n",
      " [ -2.34080339e-03  -1.93482601e-03]\n",
      " [ -1.65579302e-03  -2.59364213e-03]\n",
      " [ -1.86714331e-02   3.41910207e-03]\n",
      " [ -9.10202508e-03   3.90165189e-03]\n",
      " [  9.40784001e-02   2.34539433e-03]\n",
      " [ -2.83853549e-02   1.51453512e-02]\n",
      " [ -8.02476534e-03   5.94515679e-04]\n",
      " [ -4.79158703e-03   1.53703210e-03]\n",
      " [  6.30713294e-03   2.45373730e-03]\n",
      " [ -8.25742690e-03  -1.03570121e-03]\n",
      " [ -4.13189875e-02   1.35975766e-02]\n",
      " [ -1.23337933e-02   1.28868435e-03]\n",
      " [ -1.65556086e-02   3.81442617e-03]\n",
      " [ -3.26755318e-03  -3.81202021e-05]\n",
      " [ -6.08422596e-03   7.46168997e-04]\n",
      " [ -3.51116667e-03   3.02830391e-04]\n",
      " [  2.30959773e-03   4.01426150e-03]\n",
      " [ -8.00272590e-03   3.89905680e-03]\n",
      " [ -2.97118924e-04   5.10050152e-03]\n",
      " [  5.13058839e-04  -7.09179605e-03]\n",
      " [ -4.36619665e-03   2.40931665e-03]\n",
      " [ -1.08115996e-02   5.55897594e-04]\n",
      " [ -1.27337299e-03   2.37004684e-03]\n",
      " [ -2.66408327e-02   7.88726557e-03]\n",
      " [ -7.35168736e-03   3.35324316e-03]\n",
      " [  3.19123147e-03  -1.54540710e-03]\n",
      " [  3.38010948e-03  -7.23672761e-03]\n",
      " [ -1.07270887e-02   9.35161633e-04]\n",
      " [ -3.74093882e-03  -7.94675944e-04]\n",
      " [  7.48313716e-04  -1.52058632e-03]\n",
      " [  1.09685924e-03   8.36763386e-04]\n",
      " [ -3.68671111e-03  -7.75405408e-05]\n",
      " [  3.16692786e-03  -1.27807178e-03]\n",
      " [ -4.26107485e-03   1.55871762e-03]\n",
      " [ -1.77976387e-03  -1.71077953e-03]\n",
      " [ -2.21335612e-02   7.22021674e-04]\n",
      " [ -2.44600283e-02   6.75597823e-03]\n",
      " [ -1.04988666e-02   1.65330763e-03]\n",
      " [ -5.84952011e-03   1.01506133e-03]\n",
      " [ -1.22846074e-02  -6.52133748e-03]\n",
      " [ -7.70409073e-03   1.88310028e-03]\n",
      " [ -5.60085441e-03  -2.35414232e-03]\n",
      " [  6.08764400e-05  -3.88142173e-03]\n",
      " [ -5.24054149e-03  -1.03712268e-03]\n",
      " [ -2.15683211e-03  -3.37512579e-03]\n",
      " [ -4.10812941e-03   1.24785538e-03]\n",
      " [ -5.20965195e-03   8.31700849e-04]\n",
      " [ -3.43798837e-02   2.32333034e-02]\n",
      " [ -3.56725812e-03   2.90330527e-04]\n",
      " [ -6.39647104e-03   3.88718235e-03]\n",
      " [ -2.56447626e-03   1.24744789e-03]\n",
      " [  1.23059290e-02  -1.07991171e-02]\n",
      " [ -3.92399613e-03   3.36079615e-03]\n",
      " [ -1.85084990e-03  -3.69221017e-04]\n",
      " [ -7.06842433e-03  -6.20587176e-03]\n",
      " [ -4.51514940e-03  -4.43918680e-04]\n",
      " [  2.15820883e-02   8.31749546e-04]\n",
      " [  9.89075715e-03  -9.24000387e-04]\n",
      " [ -2.39053698e-03   1.57914417e-03]\n",
      " [  4.63859711e-02   1.34752950e-02]\n",
      " [ -6.07495478e-03   2.54643575e-03]\n",
      " [ -1.38433514e-03   1.94085009e-03]\n",
      " [ -7.18434683e-03  -1.47167618e-03]\n",
      " [ -2.72196070e-03   5.89839740e-04]\n",
      " [ -2.93677680e-03   1.39733701e-03]\n",
      " [  1.88654325e-01   4.86310363e-02]\n",
      " [ -3.60074812e-03   1.83747630e-04]\n",
      " [ -2.76198069e-03  -1.02938023e-04]\n",
      " [ -5.93936035e-03  -9.78919411e-03]\n",
      " [  3.97973475e-02  -1.76966522e-02]\n",
      " [ -2.29372017e-04  -2.25272454e-03]\n",
      " [ -1.97982620e-03   6.19095834e-04]\n",
      " [  2.99393029e-02   9.80279654e-04]\n",
      " [  2.19186887e-03  -3.85508173e-03]\n",
      " [ -9.32698040e-03   1.84715959e-03]\n",
      " [ -9.10408463e-03   1.56798012e-03]\n",
      " [  4.08551827e-01   1.91722470e-01]\n",
      " [ -8.67563561e-03   6.67390215e-03]\n",
      " [  8.06926782e-02  -5.25532079e-03]\n",
      " [  4.05800919e-03  -5.04777020e-03]\n",
      " [ -8.07369593e-03  -1.87882150e-03]\n",
      " [ -3.22926361e-03   1.80388343e-03]\n",
      " [ -9.20840198e-03  -1.48060302e-02]\n",
      " [ -5.06975519e-03   1.24307588e-03]\n",
      " [  1.87951796e-02   6.53227680e-03]\n",
      " [  5.95907700e-03  -9.65674439e-04]\n",
      " [  2.71223915e-02  -7.38071692e-02]\n",
      " [  2.26250834e-02   2.63281968e-02]\n",
      " [ -2.07819552e-02   9.64978406e-03]\n",
      " [ -1.08393632e-02  -1.39470994e-03]\n",
      " [ -5.04716507e-02   1.91903992e-02]\n",
      " [ -3.39546404e-03  -3.39915782e-03]\n",
      " [ -6.71162045e-03   1.08669440e-03]\n",
      " [ -7.48245293e-03   1.83131938e-03]\n",
      " [ -5.78315613e-03   5.92405298e-03]\n",
      " [  4.08690188e-03  -1.38573687e-02]\n",
      " [ -5.99168208e-03  -3.39702709e-03]\n",
      " [  1.93314072e-02  -6.22655433e-03]\n",
      " [  1.61699824e-01  -2.54260170e-02]\n",
      " [ -8.03143021e-03   3.06079633e-03]\n",
      " [ -3.87576374e-03  -8.60714386e-04]\n",
      " [  9.64749202e-04  -9.26520145e-03]\n",
      " [  4.64227511e-02   3.35889948e-02]\n",
      " [ -5.21255418e-02   1.88119181e-02]\n",
      " [ -2.45863778e-03   3.35398316e-05]\n",
      " [  5.18277713e-02  -1.37434650e-01]\n",
      " [ -1.10278705e-02   6.02444248e-03]\n",
      " [ -1.63197297e-02   9.76690679e-03]\n",
      " [  3.03045210e-02   8.67358287e-03]\n",
      " [ -9.15563990e-04   3.98657017e-05]\n",
      " [ -5.15917974e-03   3.01096614e-03]\n",
      " [  3.01266845e-04   3.27292799e-04]\n",
      " [ -8.92276677e-03   3.54692197e-03]\n",
      " [ -9.97494210e-03  -4.85605537e-03]\n",
      " [ -2.93228342e-03   1.24247326e-03]\n",
      " [  3.84606203e-02   2.24440517e-02]\n",
      " [  2.49103033e-02  -7.74849315e-03]\n",
      " [ -1.60978323e-02   1.58515090e-03]\n",
      " [ -2.45148795e-03   3.59274062e-04]\n",
      " [  3.50110558e-02   1.63633073e-02]\n",
      " [ -3.54752017e-02   1.32612116e-03]\n",
      " [ -4.39122399e-03  -1.96861627e-03]\n",
      " [ -4.15693384e-03  -7.61956483e-04]\n",
      " [ -7.56551797e-04   1.10078226e-03]\n",
      " [  2.41445643e-04   3.81411722e-03]\n",
      " [  4.60894598e-05  -2.65225578e-03]\n",
      " [ -4.32903224e-02   1.56512956e-02]\n",
      " [ -1.29797489e-02   8.93495938e-04]\n",
      " [ -9.53194627e-03   2.61028165e-03]\n",
      " [ -7.10040584e-03  -4.26074487e-03]\n",
      " [  7.07034926e-02   4.16626228e-02]\n",
      " [  6.08963157e-02  -3.64982475e-02]\n",
      " [ -1.25754360e-02   9.21355445e-03]\n",
      " [  5.81109621e-03  -1.46198474e-03]\n",
      " [ -5.65033195e-02   1.65065669e-02]\n",
      " [ -6.38533472e-03   8.05246889e-04]\n",
      " [ -3.07204389e-02   9.90308723e-03]\n",
      " [ -7.24328062e-03   5.76265939e-04]\n",
      " [ -4.16710698e-03   7.01912811e-05]\n",
      " [  1.67568165e-02   1.89418426e-03]\n",
      " [ -2.86651186e-03   6.97934839e-04]\n",
      " [ -1.51258424e-02   4.54090848e-03]\n",
      " [ -1.49240858e-02   5.95930683e-04]\n",
      " [ -1.64804071e-02   1.37534227e-03]\n",
      " [  2.06251001e-03  -3.10105400e-03]\n",
      " [  1.89935260e-02   7.49003999e-03]\n",
      " [  6.55529529e-03  -2.05115902e-03]\n",
      " [ -3.50959331e-02   1.61831482e-02]\n",
      " [ -4.30609899e-02   1.86739018e-02]\n",
      " [ -2.51226121e-03  -1.69685531e-04]\n",
      " [  3.00355060e-05  -2.09707503e-03]\n",
      " [ -1.86083299e-03  -8.62321597e-04]\n",
      " [ -9.61582896e-03   1.93260824e-03]\n",
      " [ -2.22125577e-02   7.04690764e-03]\n",
      " [  4.50191422e-03  -4.19880043e-03]\n",
      " [ -3.92552546e-02   1.92467789e-02]\n",
      " [  2.91081906e-03   4.27098784e-03]\n",
      " [  9.52447875e-05   1.92805916e-06]\n",
      " [ -2.48600101e-02   2.04157075e-03]\n",
      " [  2.56040171e-03  -8.78369213e-03]\n",
      " [ -1.22542697e-02   2.97199269e-03]\n",
      " [ -1.68847344e-03   1.11624514e-05]\n",
      " [ -3.36316825e-03  -1.33645141e-03]\n",
      " [  8.52197145e-03   5.62073374e-03]\n",
      " [  5.96042114e-03   3.18967622e-04]\n",
      " [ -1.61725981e-03  -2.38320712e-03]\n",
      " [ -3.03171527e-03   1.59754522e-04]\n",
      " [  6.27217024e-02   1.22339694e-02]\n",
      " [ -3.05763931e-02  -2.11052714e-03]\n",
      " [ -1.66586300e-02   3.26814404e-04]\n",
      " [ -5.64698195e-03  -1.33856103e-04]\n",
      " [  9.75293560e-04  -1.42925083e-03]\n",
      " [  7.26798282e-03  -1.84635139e-02]\n",
      " [  1.12975485e-03   9.31673660e-04]\n",
      " [ -3.39657067e-02   1.99952151e-02]\n",
      " [ -1.03626262e-02   1.27976933e-03]\n",
      " [ -2.56978533e-02   1.00966845e-02]\n",
      " [  1.43361771e-01  -4.29345555e-01]\n",
      " [ -5.76008846e-03  -1.45054458e-03]\n",
      " [  4.20050863e-03   6.99878865e-04]\n",
      " [ -5.38809368e-04  -8.79690674e-04]\n",
      " [  1.83163366e-02  -3.26241195e-03]\n",
      " [ -3.67187994e-03  -5.48901514e-03]\n",
      " [ -3.63238920e-03  -1.32553787e-03]\n",
      " [  5.96488170e-03   1.65880593e-03]\n",
      " [ -7.47614742e-03   1.67258419e-04]\n",
      " [ -2.00049107e-02   5.72031599e-04]\n",
      " [ -8.63810657e-04  -5.57592691e-03]\n",
      " [ -4.46263152e-03  -1.51668832e-04]\n",
      " [ -3.20130908e-03  -3.92100890e-03]\n",
      " [ -4.83738829e-03  -2.26683465e-04]\n",
      " [ -2.13288714e-03  -2.17722921e-04]\n",
      " [ -1.49711187e-03  -1.38773215e-03]\n",
      " [ -6.53833472e-03   2.12241037e-03]\n",
      " [ -2.81151086e-03  -6.20591329e-05]\n",
      " [  2.56170359e-02  -5.58021396e-03]\n",
      " [ -4.60615526e-03   1.01696386e-03]\n",
      " [  7.70471009e-03   1.40719710e-02]\n",
      " [  2.01006685e-04  -6.34426584e-03]\n",
      " [ -5.16719731e-03  -3.06805434e-03]\n",
      " [ -8.12639273e-03  -2.31329727e-03]\n",
      " [ -3.06522778e-02   9.29833224e-03]\n",
      " [  6.42861048e-02  -1.96933172e-01]\n",
      " [ -1.61041801e-03  -7.93832521e-04]\n",
      " [ -4.35894317e-03   2.01721041e-03]\n",
      " [ -1.16675497e-03   5.86177784e-03]\n",
      " [  3.85211933e-04   1.38271497e-03]\n",
      " [ -2.74411507e-03  -1.00894390e-03]\n",
      " [ -9.77157544e-03   2.27369626e-03]\n",
      " [ -3.94254036e-03  -1.11065306e-03]\n",
      " [  1.06038932e-02  -1.89938641e-04]\n",
      " [ -1.02488800e-03  -2.84896314e-03]\n",
      " [ -7.21596915e-03   1.98354519e-03]\n",
      " [  2.11948451e-04  -1.79451254e-03]\n",
      " [ -1.03206239e-02   8.55116260e-04]\n",
      " [ -3.55299305e-02   1.34760736e-02]\n",
      " [ -6.71058222e-03   8.24929889e-04]\n",
      " [ -5.91195926e-03   5.67801446e-03]\n",
      " [ -1.68714766e-03  -1.84416302e-04]\n",
      " [  9.84449717e-03   1.09960992e-02]\n",
      " [  1.01817841e-02  -9.82334062e-04]\n",
      " [ -1.16950081e-02   1.21805702e-03]\n",
      " [  1.34823159e-02   1.25813605e-03]\n",
      " [ -4.92863629e-03  -6.35512099e-03]\n",
      " [ -1.94598864e-03  -7.25226538e-05]\n",
      " [  7.29122480e-03   8.22251080e-03]\n",
      " [ -3.85513410e-03   1.48169105e-03]\n",
      " [  4.33594708e-01   2.10066939e-01]\n",
      " [  1.70842559e-03  -6.14975933e-03]\n",
      " [  1.06895598e-04   1.40265121e-03]\n",
      " [  2.83323625e-03   4.09503552e-03]\n",
      " [ -7.83201877e-03  -2.50200558e-04]\n",
      " [  4.70913935e-03  -2.07863260e-02]\n",
      " [ -1.30084788e-02   1.09196933e-03]\n",
      " [  5.17252140e-04   3.42507632e-04]\n",
      " [  9.07862121e-03  -3.67271174e-02]\n",
      " [ -1.56950449e-02   6.94776004e-03]\n",
      " [ -1.87236032e-03  -2.34709468e-05]\n",
      " [ -3.05236483e-02   6.91739742e-03]\n",
      " [ -1.95958473e-03  -4.35518053e-03]\n",
      " [ -2.29030492e-03   6.41431113e-05]\n",
      " [ -1.38515123e-02  -1.51267384e-03]\n",
      " [ -4.94006531e-03   6.88430403e-04]\n",
      " [ -8.09599575e-03   2.97607630e-03]\n",
      " [ -2.85354142e-03  -6.06098295e-04]\n",
      " [ -7.97875967e-03   3.58158998e-03]\n",
      " [ -5.37536297e-03   4.29722549e-03]\n",
      " [ -1.04734250e-02   2.64266242e-03]\n",
      " [ -8.78986535e-03   3.63980933e-05]\n",
      " [ -8.69405144e-04  -1.33655023e-03]\n",
      " [ -5.21744454e-03   8.89184436e-04]\n",
      " [  2.16338305e-03  -1.79832394e-03]\n",
      " [  3.20565835e-03   5.09154986e-03]\n",
      " [ -2.91568236e-03   3.88357231e-04]\n",
      " [  3.78011454e-03   4.57986857e-04]\n",
      " [ -2.99653934e-02   1.08657794e-02]\n",
      " [  1.42452109e-02   5.77139091e-04]\n",
      " [ -3.85123578e-02   1.12923233e-02]\n",
      " [  2.28273265e-03   7.64694983e-04]\n",
      " [ -3.72935477e-03   1.00874184e-04]\n",
      " [ -1.01006847e-02  -2.94199955e-03]\n",
      " [  9.58061573e-02   2.17188259e-02]\n",
      " [ -1.76942976e-03   2.18978540e-05]\n",
      " [ -1.34897658e-03   4.52999018e-04]\n",
      " [  1.45666559e-01  -4.45408423e-01]\n",
      " [ -1.08187840e-02   1.32843603e-03]\n",
      " [ -5.59472112e-03  -2.72029792e-04]\n",
      " [ -3.22971645e-03  -6.02672831e-04]\n",
      " [  8.19486021e-03   1.38113899e-03]\n",
      " [  3.12002163e-03  -2.36495873e-03]\n",
      " [  4.38683542e-02  -1.65177336e-03]\n",
      " [ -1.82490983e-03   8.49881885e-05]\n",
      " [ -8.97620185e-03   1.54565764e-04]\n",
      " [ -2.62226723e-02  -5.75569030e-04]\n",
      " [ -3.63877865e-02   1.17764035e-02]\n",
      " [ -1.75994844e-02   5.17764835e-04]\n",
      " [  1.11990985e-02   9.45313218e-03]\n",
      " [  1.81528546e-02   4.30394148e-03]\n",
      " [ -1.95783917e-02   4.22545290e-03]\n",
      " [ -9.95262480e-03   2.20181821e-03]\n",
      " [ -1.70677711e-03   1.38019427e-05]\n",
      " [  1.09150624e-01  -3.68602562e-02]\n",
      " [  1.45316408e-01  -4.17488721e-01]\n",
      " [ -3.23202231e-03   1.01344412e-04]\n",
      " [  2.95700187e-03   3.34503346e-04]\n",
      " [ -8.81644102e-03   2.43306981e-03]\n",
      " [  7.67303726e-03  -4.50258730e-03]\n",
      " [  3.73884509e-02  -5.40786571e-03]\n",
      " [  1.60041898e-02   1.45563323e-02]\n",
      " [  4.56167372e-03  -1.06291971e-02]\n",
      " [  2.31826476e-03  -3.29378815e-03]\n",
      " [ -1.06930953e-03  -5.64722946e-03]\n",
      " [ -3.99249666e-03   8.03459675e-04]\n",
      " [  3.44608901e-01   1.39493414e-01]\n",
      " [ -1.65996220e-02   3.38317475e-03]\n",
      " [ -6.95202745e-03  -5.78123473e-04]\n",
      " [  6.36469025e-03   6.22066761e-03]\n",
      " [ -2.78447388e-02   7.69848624e-03]\n",
      " [ -3.37536552e-03  -4.42152458e-04]\n",
      " [ -5.42551264e-03   3.03844925e-05]\n",
      " [  1.54881568e-03  -1.01244284e-03]\n",
      " [ -1.63642658e-02   6.78948241e-03]\n",
      " [ -5.54594240e-03   2.74772655e-04]\n",
      " [ -2.71738259e-03  -3.61076922e-04]\n",
      " [ -1.49941839e-02  -4.33531249e-03]\n",
      " [ -5.20074327e-03   2.40427600e-03]\n",
      " [ -4.56227856e-03  -2.13201264e-03]\n",
      " [ -1.23144309e-02  -4.16544463e-03]\n",
      " [ -1.73034468e-02   5.41754211e-04]\n",
      " [  4.30728791e-03  -4.64880800e-02]\n",
      " [ -3.58452543e-03   1.31692205e-03]\n",
      " [ -1.92608461e-02   7.51320814e-03]\n",
      " [  1.96069940e-03  -1.45843354e-03]\n",
      " [ -7.37385770e-03   1.85318143e-03]\n",
      " [ -3.78574603e-03  -7.20754677e-04]\n",
      " [ -9.07745741e-03   2.17187887e-03]\n",
      " [ -1.13353452e-02   2.42184149e-03]\n",
      " [ -7.39983789e-03  -1.41540030e-03]\n",
      " [  6.40705404e-04  -1.47545728e-03]\n",
      " [ -4.85038985e-03   1.10790440e-03]\n",
      " [ -5.40523977e-03   8.17882777e-04]\n",
      " [ -2.15878405e-02   2.30134845e-03]\n",
      " [ -2.36107101e-03   1.41344495e-03]\n",
      " [ -1.19906399e-02   8.21146053e-03]\n",
      " [ -3.50489115e-03  -3.32380103e-03]\n",
      " [  2.09483622e-02  -2.97248652e-03]\n",
      " [  4.55097429e-03   7.66522795e-04]\n",
      " [ -1.26475715e-03   4.33408334e-03]\n",
      " [  1.73787140e-02   1.24346719e-02]\n",
      " [ -1.71312551e-03  -3.17278476e-04]\n",
      " [ -1.87428342e-02  -9.29003605e-04]\n",
      " [  1.36831931e-03   2.62994104e-04]\n",
      " [  2.73153115e-03  -2.38832440e-02]\n",
      " [  2.58407721e-02   1.02012624e-02]\n",
      " [ -1.09863479e-02  -1.91376283e-03]\n",
      " [ -1.45549956e-02   2.07957980e-03]\n",
      " [ -8.68384081e-03   9.02508575e-04]\n",
      " [  3.22706139e-03   3.85136122e-03]\n",
      " [ -2.95449606e-03  -1.11012415e-03]\n",
      " [ -3.53422190e-02   2.11789850e-02]\n",
      " [  1.19039231e-02  -2.27645452e-02]]\n"
     ]
    }
   ],
   "source": [
    "# 取前兩名重要的向量  並排列整齊\n",
    "w = np.hstack((eigen_pairs[0][1][:, np.newaxis],\n",
    "               eigen_pairs[1][1][:, np.newaxis]))\n",
    "print('Matrix W:\\n', w)"
   ]
  },
  {
   "cell_type": "code",
   "execution_count": 63,
   "metadata": {},
   "outputs": [
    {
     "data": {
      "text/plain": [
       "array([ 0.,  1.,  2.,  3.,  4.])"
      ]
     },
     "execution_count": 63,
     "metadata": {},
     "output_type": "execute_result"
    }
   ],
   "source": [
    "np.unique(y_train)"
   ]
  },
  {
   "cell_type": "code",
   "execution_count": 70,
   "metadata": {},
   "outputs": [
    {
     "data": {
      "text/plain": [
       "(5126,)"
      ]
     },
     "execution_count": 70,
     "metadata": {},
     "output_type": "execute_result"
    }
   ],
   "source": [
    "y_train.shape"
   ]
  },
  {
   "cell_type": "code",
   "execution_count": 73,
   "metadata": {},
   "outputs": [
    {
     "data": {
      "text/plain": [
       "array([[-0.03712914, -0.02756307, -0.14854026, ..., -0.04489376,\n",
       "        -0.1956215 , -0.10083063],\n",
       "       [-0.03712914, -0.02756307, -0.14854026, ..., -0.04489376,\n",
       "        -0.1956215 , -0.10083063],\n",
       "       [-0.03712914, -0.02756307, -0.14854026, ..., -0.04489376,\n",
       "        -0.1956215 ,  3.40379262],\n",
       "       ..., \n",
       "       [-0.03712914, -0.02756307, -0.14854026, ..., -0.04489376,\n",
       "         8.86674688, -0.10083063],\n",
       "       [-0.03712914, -0.02756307, -0.14854026, ..., -0.04489376,\n",
       "        -0.1956215 , -0.10083063],\n",
       "       [-0.03712914, -0.02756307, -0.14854026, ..., -0.04489376,\n",
       "        -0.1956215 , -0.10083063]])"
      ]
     },
     "execution_count": 73,
     "metadata": {},
     "output_type": "execute_result"
    }
   ],
   "source": [
    "X_train_std"
   ]
  },
  {
   "cell_type": "code",
   "execution_count": 64,
   "metadata": {},
   "outputs": [
    {
     "data": {
      "image/png": "[encoded data removed]",
      "text/plain": [
       "<matplotlib.figure.Figure at 0x1ae4bd68>"
      ]
     },
     "metadata": {},
     "output_type": "display_data"
    }
   ],
   "source": [
    "#所有訓練向量對前兩名特徵相量做投影  也就是做內積\n",
    "X_train_pca = X_train_std.dot(w)\n",
    "#作圖\n",
    "colors = ['r', 'b', 'g', 'pink', 'black']\n",
    "markers = ['s', 'x', 'o', 'h', 'd']\n",
    "\n",
    "for l, c, m in zip(np.unique(y_train), colors, markers):\n",
    "    plt.scatter(X_train_pca[y_train == l, 0], \n",
    "                X_train_pca[y_train == l, 1], \n",
    "                c=c, label=l, marker=m)\n",
    "plt.xlabel('PC 1')\n",
    "plt.ylabel('PC 2')\n",
    "plt.legend(loc='lower left')\n",
    "plt.tight_layout()\n",
    "\n",
    "plt.show()"
   ]
  },
  {
   "cell_type": "code",
   "execution_count": 229,
   "metadata": {},
   "outputs": [
    {
     "data": {
      "text/plain": [
       "(5126, 389)"
      ]
     },
     "execution_count": 229,
     "metadata": {},
     "output_type": "execute_result"
    }
   ],
   "source": [
    "X_train_std.shape"
   ]
  },
  {
   "cell_type": "code",
   "execution_count": null,
   "metadata": {
    "collapsed": true
   },
   "outputs": [],
   "source": [
    "## 用scikit learn做"
   ]
  }
 ],
 "metadata": {
  "kernelspec": {
   "display_name": "Python 3",
   "language": "python",
   "name": "python3"
  },
  "language_info": {
   "codemirror_mode": {
    "name": "ipython",
    "version": 3
   },
   "file_extension": ".py",
   "mimetype": "text/x-python",
   "name": "python",
   "nbconvert_exporter": "python",
   "pygments_lexer": "ipython3",
   "version": "3.6.1"
  }
 },
 "nbformat": 4,
 "nbformat_minor": 2
}
