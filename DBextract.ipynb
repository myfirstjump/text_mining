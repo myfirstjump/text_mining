{
 "cells": [
  {
   "cell_type": "code",
   "execution_count": 24,
   "metadata": {
    "collapsed": true,
    "scrolled": false
   },
   "outputs": [],
   "source": [
    "import pymongo\n",
    "from pymongo import MongoClient\n",
    "import jieba\n",
    "import math\n",
    "import operator\n",
    "import json\n",
    "import jieba.analyse\n",
    "import time\n",
    "import os\n",
    "from collections import Counter\n",
    "\n",
    "import logging\n",
    "import sys\n",
    "\n",
    "startT = time.time()\n",
    "src = \"金閣寺_Titlize\" # DB 讀取來源 collection\n",
    "filePath = \"C:\\\\Users\\\\Java\\\\Desktop\\\\TM\"\n",
    "focus = \"nothing\" # 欲加強的目標\n",
    "multi = 1  # 加強目標的權重\n",
    "nowtime = time.strftime(\"%m%d\")\n",
    "\n",
    "# \"渡月橋\" Togetsukyō\n",
    "# \"平等院鳳凰堂\"  Byōdōin\n",
    "# \"千本鳥居\" Fushimi-Inari Taisha\n",
    "# \"京都御所\" Kyōto gosho\n",
    "# \"京都塔\" kyoto tower\n",
    "# \"二條城\" Nijō-jō\n",
    "# \"三十三間堂\" Sanjūsangen-dō\n",
    "# \"清水寺\" Kiyomizu-dera\n",
    "# \"金閣寺\" Rokuonji\n",
    "\n",
    "# read data\n",
    "conn = MongoClient('127.0.0.1', 27017)  ##連 Mongodb\n",
    "db = conn.text_mining  ##創造DB  改程式碼的時候注意一下 這行的DB也要改\n",
    "db.authenticate('text_mining', 'bb102', source='text_mining')  # text_mining帳號 #bb102密碼 #test123允許儲存的db\n",
    "collection = db[src]  ##創造collection\n",
    "articleList = []\n",
    "for item in collection.find({}, {\"內文\": 1, \"_id\": 0}):  # for others\n",
    "    if item != {}:\n",
    "        articleList.append(item)\n",
    "\n",
    "articles = []\n",
    "for atc in articleList:\n",
    "    article1 = atc.get('內文')\n",
    "    #article2 = \"\".join([i for i in filter(lambda ch: ch not in ignore, article1)])  # 去掉數字和特殊符號              \n",
    "    articles.append(article1)"
   ]
  },
  {
   "cell_type": "code",
   "execution_count": 25,
   "metadata": {},
   "outputs": [],
   "source": [
    "texts_num = 0\n",
    "with open(filePath + \"\\\\word2Vec\\\\KyotoW2V\\\\Titlize.txt\", 'a', encoding='utf-8') as output:\n",
    "    for text in articles:\n",
    "        output.write(''.join(text) + '\\n')\n",
    "        texts_num += 1\n",
    "        if texts_num % 10000 == 0:\n",
    "            logging.info(\"已處理 %d 篇文章\" % texts_num)\n",
    "conn.close()"
   ]
  }
 ],
 "metadata": {
  "kernelspec": {
   "display_name": "Python 3",
   "language": "python",
   "name": "python3"
  },
  "language_info": {
   "codemirror_mode": {
    "name": "ipython",
    "version": 3
   },
   "file_extension": ".py",
   "mimetype": "text/x-python",
   "name": "python",
   "nbconvert_exporter": "python",
   "pygments_lexer": "ipython3",
   "version": "3.6.1"
  }
 },
 "nbformat": 4,
 "nbformat_minor": 2
}
